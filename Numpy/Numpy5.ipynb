{
 "cells": [
  {
   "cell_type": "markdown",
   "metadata": {},
   "source": [
    "# Numpy Exercise 5\n",
    "\n",
    "### All of the questions in this exercise are attributed to rougier/numpy-100"
   ]
  },
  {
   "cell_type": "code",
   "execution_count": 1,
   "metadata": {},
   "outputs": [],
   "source": [
    "import numpy as np"
   ]
  },
  {
   "cell_type": "markdown",
   "metadata": {},
   "source": [
    "#### 61. Find the nearest value from a given value in an array (★★☆)"
   ]
  },
  {
   "cell_type": "code",
   "execution_count": 2,
   "metadata": {},
   "outputs": [
    {
     "data": {
      "text/plain": [
       "array([ 0,  2,  4,  6,  8, 10, 12, 14])"
      ]
     },
     "execution_count": 2,
     "metadata": {},
     "output_type": "execute_result"
    }
   ],
   "source": [
    "arr1=np.arange(0,15,2)\n",
    "arr1"
   ]
  },
  {
   "cell_type": "code",
   "execution_count": 3,
   "metadata": {},
   "outputs": [
    {
     "data": {
      "text/plain": [
       "array([3], dtype=int64)"
      ]
     },
     "execution_count": 3,
     "metadata": {},
     "output_type": "execute_result"
    }
   ],
   "source": [
    "#let us say we want to find the nearest value to 6\n",
    "#use np.where() to return the index of the target value, minus from that index to find the nearest\n",
    "np.where(arr1==6)[0]"
   ]
  },
  {
   "cell_type": "code",
   "execution_count": 4,
   "metadata": {},
   "outputs": [
    {
     "data": {
      "text/plain": [
       "array([4])"
      ]
     },
     "execution_count": 4,
     "metadata": {},
     "output_type": "execute_result"
    }
   ],
   "source": [
    "arr1[(np.where(arr1==6)[0])-1]"
   ]
  },
  {
   "cell_type": "markdown",
   "metadata": {},
   "source": [
    "#### 62. Considering two arrays with shape (1,3) and (3,1), how to compute their sum using an iterator? (★★☆)"
   ]
  },
  {
   "cell_type": "code",
   "execution_count": 5,
   "metadata": {},
   "outputs": [
    {
     "name": "stdout",
     "output_type": "stream",
     "text": [
      "[[0 1 2]\n",
      " [1 2 3]\n",
      " [2 3 4]]\n"
     ]
    }
   ],
   "source": [
    "arr1 = np.arange(3).reshape(3,1)\n",
    "arr2 = np.arange(3).reshape(1,3)\n",
    "it = np.nditer([arr1,arr2,None])#it is an object containing 3 arrays, arr1,arr2 and an empty one\n",
    "for x,y,z in it: z[...] = x + y\n",
    "print(it.operands[2])#accesses the empty array z where the result of the sum is stored"
   ]
  },
  {
   "cell_type": "markdown",
   "metadata": {},
   "source": [
    "#### 63. Create an array class that has a name attribute (★★☆)"
   ]
  },
  {
   "cell_type": "code",
   "execution_count": 6,
   "metadata": {},
   "outputs": [
    {
     "name": "stdout",
     "output_type": "stream",
     "text": [
      "range_10\n"
     ]
    }
   ],
   "source": [
    "class NamedArray(np.ndarray):\n",
    "    def __new__(cls, array, name=\"no name\"):\n",
    "        obj = np.asarray(array).view(cls)\n",
    "        obj.name = name\n",
    "        return obj\n",
    "    def __array_finalize__(self, obj):\n",
    "        if obj is None: return\n",
    "        self.name = getattr(obj, 'name', \"no name\")\n",
    "\n",
    "Z = NamedArray(np.arange(10), \"range_10\")\n",
    "print (Z.name)"
   ]
  },
  {
   "cell_type": "markdown",
   "metadata": {},
   "source": [
    "#### 64. Consider a given vector, how to add 1 to each element indexed by a second vector (be careful with repeated indices)? (★★★)"
   ]
  },
  {
   "cell_type": "code",
   "execution_count": 7,
   "metadata": {},
   "outputs": [
    {
     "data": {
      "text/plain": [
       "array([2, 3, 4, 4, 5])"
      ]
     },
     "execution_count": 7,
     "metadata": {},
     "output_type": "execute_result"
    }
   ],
   "source": [
    "#np.add.at ufunc can be used to add numbers to values at specific indices in a vector\n",
    "arr1=np.array([1,2,3,4,5])\n",
    "arr2=np.array([0,1,2])\n",
    "np.add.at(arr1,[arr2],1)\n",
    "arr1"
   ]
  },
  {
   "cell_type": "markdown",
   "metadata": {},
   "source": [
    "#### 65. How to accumulate elements of a vector (X) to an array (F) based on an index list (I)? (★★★)"
   ]
  },
  {
   "cell_type": "code",
   "execution_count": 47,
   "metadata": {},
   "outputs": [
    {
     "name": "stdout",
     "output_type": "stream",
     "text": [
      "[0. 7. 0. 6. 5. 0. 0. 0. 0. 3.]\n"
     ]
    }
   ],
   "source": [
    "X =([1,2,3,4,5,6])\n",
    "Index_list= [1,3,9,3,4,1]\n",
    "F = np.bincount(Index_list,X)\n",
    "print(F)"
   ]
  },
  {
   "cell_type": "markdown",
   "metadata": {},
   "source": [
    "#### 66. Considering a (w,h,3) image of (dtype=ubyte), compute the number of unique colors (★★☆)"
   ]
  },
  {
   "cell_type": "code",
   "execution_count": 8,
   "metadata": {},
   "outputs": [
    {
     "name": "stdout",
     "output_type": "stream",
     "text": [
      "[0 1]\n"
     ]
    }
   ],
   "source": [
    "w,h = 16,16\n",
    "I = np.random.randint(0,2,(h,w,3)).astype(np.ubyte)\n",
    "F = I[...,0]*256*256 + I[...,1]*256 +I[...,2]\n",
    "n = len(np.unique(F))\n",
    "print(np.unique(I))"
   ]
  },
  {
   "cell_type": "markdown",
   "metadata": {},
   "source": [
    "#### 67. Considering a four dimensions array, how to get sum over the last two axis at once? (★★★)"
   ]
  },
  {
   "cell_type": "code",
   "execution_count": 11,
   "metadata": {},
   "outputs": [
    {
     "data": {
      "text/plain": [
       "array([[[[9, 2, 6, 4],\n",
       "         [8, 4, 3, 1],\n",
       "         [6, 6, 4, 2]],\n",
       "\n",
       "        [[6, 2, 4, 0],\n",
       "         [3, 4, 3, 6],\n",
       "         [6, 0, 0, 4]],\n",
       "\n",
       "        [[2, 7, 5, 2],\n",
       "         [2, 8, 3, 3],\n",
       "         [1, 5, 6, 5]],\n",
       "\n",
       "        [[3, 6, 4, 6],\n",
       "         [7, 8, 5, 8],\n",
       "         [8, 1, 9, 6]]],\n",
       "\n",
       "\n",
       "       [[[9, 9, 3, 2],\n",
       "         [4, 4, 2, 0],\n",
       "         [7, 6, 7, 5]],\n",
       "\n",
       "        [[7, 9, 4, 3],\n",
       "         [4, 7, 1, 4],\n",
       "         [1, 9, 2, 4]],\n",
       "\n",
       "        [[3, 6, 7, 0],\n",
       "         [0, 8, 2, 4],\n",
       "         [2, 0, 2, 9]],\n",
       "\n",
       "        [[6, 4, 3, 0],\n",
       "         [6, 9, 3, 9],\n",
       "         [7, 8, 9, 9]]],\n",
       "\n",
       "\n",
       "       [[[9, 5, 1, 1],\n",
       "         [5, 2, 9, 3],\n",
       "         [2, 9, 3, 9]],\n",
       "\n",
       "        [[9, 4, 0, 2],\n",
       "         [1, 0, 9, 4],\n",
       "         [9, 8, 5, 6]],\n",
       "\n",
       "        [[5, 5, 1, 3],\n",
       "         [4, 6, 6, 0],\n",
       "         [0, 8, 2, 3]],\n",
       "\n",
       "        [[6, 5, 7, 5],\n",
       "         [9, 4, 9, 5],\n",
       "         [9, 5, 8, 2]]]])"
      ]
     },
     "execution_count": 11,
     "metadata": {},
     "output_type": "execute_result"
    }
   ],
   "source": [
    "arr1 = np.random.randint(0,10,(3,4,3,4))\n",
    "arr1"
   ]
  },
  {
   "cell_type": "code",
   "execution_count": 21,
   "metadata": {},
   "outputs": [
    {
     "name": "stdout",
     "output_type": "stream",
     "text": [
      "[[55 38 49 71]\n",
      " [58 55 43 73]\n",
      " [58 57 43 74]]\n"
     ]
    }
   ],
   "source": [
    "#np.sum() allows us to sum along axis\n",
    "#axes follow the rules of indexing first axis=0, 2nd=1,3...\n",
    "sum = np.sum(arr1,axis=(2,3))\n",
    "print(sum)\n"
   ]
  },
  {
   "cell_type": "markdown",
   "metadata": {},
   "source": [
    "#### 68. Considering a one-dimensional vector D, how to compute means of subsets of D using a vector S of same size describing subset  indices? (★★★)"
   ]
  },
  {
   "cell_type": "code",
   "execution_count": 33,
   "metadata": {},
   "outputs": [
    {
     "data": {
      "text/plain": [
       "array([0, 1, 2, 3, 4, 5, 6, 7, 8, 9])"
      ]
     },
     "execution_count": 33,
     "metadata": {},
     "output_type": "execute_result"
    }
   ],
   "source": [
    "#create the 1D vector D\n",
    "D = np.arange(0,10)\n",
    "D"
   ]
  },
  {
   "cell_type": "code",
   "execution_count": 34,
   "metadata": {},
   "outputs": [
    {
     "data": {
      "text/plain": [
       "array([0, 2, 7, 0, 1, 2, 1, 0, 6, 5])"
      ]
     },
     "execution_count": 34,
     "metadata": {},
     "output_type": "execute_result"
    }
   ],
   "source": [
    "S = np.random.randint(0,10,10)\n",
    "S"
   ]
  },
  {
   "cell_type": "code",
   "execution_count": 35,
   "metadata": {},
   "outputs": [
    {
     "name": "stdout",
     "output_type": "stream",
     "text": [
      "[3.33333333 5.         3.                nan        nan 9.\n",
      " 8.         2.        ]\n"
     ]
    },
    {
     "name": "stderr",
     "output_type": "stream",
     "text": [
      "C:\\Users\\User\\AppData\\Local\\Temp\\ipykernel_4192\\2016315713.py:3: RuntimeWarning: invalid value encountered in divide\n",
      "  D_means = D_sums / D_counts\n"
     ]
    }
   ],
   "source": [
    "D_sums = np.bincount(S, weights=D)\n",
    "D_counts = np.bincount(S)\n",
    "D_means = D_sums / D_counts\n",
    "print(D_means)"
   ]
  },
  {
   "cell_type": "markdown",
   "metadata": {},
   "source": [
    "#### 69. How to get the diagonal of a dot product? (★★★)"
   ]
  },
  {
   "cell_type": "code",
   "execution_count": 38,
   "metadata": {},
   "outputs": [
    {
     "data": {
      "text/plain": [
       "array([38, 81, 14])"
      ]
     },
     "execution_count": 38,
     "metadata": {},
     "output_type": "execute_result"
    }
   ],
   "source": [
    "arr1 = np.random.randint(0,10,(3,3))\n",
    "arr2= np.random.randint(0,10,(3,3))\n",
    "#product of arrays\n",
    "arr3=np.dot(arr1,arr2)\n",
    "np.diag(arr3)"
   ]
  },
  {
   "cell_type": "markdown",
   "metadata": {},
   "source": [
    "#### 70. Consider the vector [1, 2, 3, 4, 5], how to build a new vector with 3 consecutive zeros interleaved between each value? (★★★)"
   ]
  },
  {
   "cell_type": "code",
   "execution_count": 53,
   "metadata": {},
   "outputs": [],
   "source": [
    "#crate the vector\n",
    "arr1= np.array([1,2,3,4,5])"
   ]
  },
  {
   "cell_type": "code",
   "execution_count": 54,
   "metadata": {},
   "outputs": [
    {
     "data": {
      "text/plain": [
       "array([0., 0., 0., 0., 0., 0., 0., 0., 0., 0., 0., 0., 0., 0., 0., 0., 0.])"
      ]
     },
     "execution_count": 54,
     "metadata": {},
     "output_type": "execute_result"
    }
   ],
   "source": [
    "#create a new array filled with zeros..\n",
    "#length of the new array will be len of original array+len of original array-1 time the 3 zeros\n",
    "arr2=np.zeros(len(arr1)+ (len(arr1)-1)*3)\n",
    "arr2"
   ]
  },
  {
   "cell_type": "code",
   "execution_count": 55,
   "metadata": {},
   "outputs": [
    {
     "data": {
      "text/plain": [
       "array([1., 0., 0., 0., 2., 0., 0., 0., 3., 0., 0., 0., 4., 0., 0., 0., 5.])"
      ]
     },
     "execution_count": 55,
     "metadata": {},
     "output_type": "execute_result"
    }
   ],
   "source": [
    "#fill the zeros array with values from arr1\n",
    "arr2[::4]=arr1\n",
    "arr2"
   ]
  },
  {
   "cell_type": "markdown",
   "metadata": {},
   "source": [
    "#### 71. Consider an array of dimension (5,5,3), how to mulitply it by an array with dimensions (5,5)? (★★★)"
   ]
  },
  {
   "cell_type": "code",
   "execution_count": 61,
   "metadata": {},
   "outputs": [
    {
     "data": {
      "text/plain": [
       "array([[[2, 2, 2],\n",
       "        [2, 2, 2],\n",
       "        [2, 2, 2],\n",
       "        [2, 2, 2],\n",
       "        [2, 2, 2]],\n",
       "\n",
       "       [[2, 2, 2],\n",
       "        [2, 2, 2],\n",
       "        [2, 2, 2],\n",
       "        [2, 2, 2],\n",
       "        [2, 2, 2]],\n",
       "\n",
       "       [[2, 2, 2],\n",
       "        [2, 2, 2],\n",
       "        [2, 2, 2],\n",
       "        [2, 2, 2],\n",
       "        [2, 2, 2]],\n",
       "\n",
       "       [[2, 2, 2],\n",
       "        [2, 2, 2],\n",
       "        [2, 2, 2],\n",
       "        [2, 2, 2],\n",
       "        [2, 2, 2]],\n",
       "\n",
       "       [[2, 2, 2],\n",
       "        [2, 2, 2],\n",
       "        [2, 2, 2],\n",
       "        [2, 2, 2],\n",
       "        [2, 2, 2]]])"
      ]
     },
     "execution_count": 61,
     "metadata": {},
     "output_type": "execute_result"
    }
   ],
   "source": [
    "arr1=np.full((5,5,3),1)\n",
    "arr2=np.full((5,5),2)\n",
    "#np.dot(arr1,arr2)\n",
    "arr3=arr1*arr2[:,:,np.newaxis]\n",
    "arr3"
   ]
  },
  {
   "cell_type": "markdown",
   "metadata": {},
   "source": [
    "#### 72. How to swap two rows of an array? (★★★)"
   ]
  },
  {
   "cell_type": "code",
   "execution_count": 71,
   "metadata": {},
   "outputs": [
    {
     "data": {
      "text/plain": [
       "array([[1, 7, 2, 5],\n",
       "       [0, 8, 3, 6],\n",
       "       [9, 6, 3, 2]])"
      ]
     },
     "execution_count": 71,
     "metadata": {},
     "output_type": "execute_result"
    }
   ],
   "source": [
    "arr1=np.random.randint(0,10,(3,4))\n",
    "arr1"
   ]
  },
  {
   "cell_type": "code",
   "execution_count": 72,
   "metadata": {},
   "outputs": [
    {
     "data": {
      "text/plain": [
       "array([[0, 8, 3, 6],\n",
       "       [9, 6, 3, 2],\n",
       "       [1, 7, 2, 5]])"
      ]
     },
     "execution_count": 72,
     "metadata": {},
     "output_type": "execute_result"
    }
   ],
   "source": [
    "np.roll(arr1,2,axis=0)"
   ]
  },
  {
   "cell_type": "markdown",
   "metadata": {},
   "source": [
    "#### 73. Consider a set of 10 triplets describing 10 triangles (with shared vertices), find the set of unique line segments composing all the  triangles (★★★)"
   ]
  },
  {
   "cell_type": "code",
   "execution_count": null,
   "metadata": {},
   "outputs": [],
   "source": []
  },
  {
   "cell_type": "markdown",
   "metadata": {},
   "source": [
    "#### 74. Given a sorted array C that corresponds to a bincount, how to produce an array A such that np.bincount(A) == C? (★★★)"
   ]
  },
  {
   "cell_type": "code",
   "execution_count": 85,
   "metadata": {},
   "outputs": [
    {
     "name": "stdout",
     "output_type": "stream",
     "text": [
      "[0 0 3 0 2 0 1 0 5]\n",
      "[2 2 2 4 4 6 8 8 8 8 8]\n",
      "[0 0 3 0 2 0 1 0 5]\n"
     ]
    }
   ],
   "source": [
    "C = np.bincount([2,2,2,4,4,6,8,8,8,8,8])\n",
    "print(C)\n",
    "A = np.repeat(np.arange(len(C)), C)\n",
    "print(A)\n",
    "print(np.bincount(A))"
   ]
  },
  {
   "cell_type": "markdown",
   "metadata": {},
   "source": [
    "#### 75. How to compute averages using a sliding window over an array? (★★★)"
   ]
  },
  {
   "cell_type": "code",
   "execution_count": 92,
   "metadata": {},
   "outputs": [
    {
     "name": "stdout",
     "output_type": "stream",
     "text": [
      "[ 0.5  1.5  2.5  3.5  4.5  5.5  6.5  7.5  8.5  9.5 10.5 11.5 12.5 13.5\n",
      " 14.5 15.5 16.5 17.5 18.5]\n"
     ]
    }
   ],
   "source": [
    "#a sliding window is like a way of processing elements in an array sequentially,using a fixed window(like a frame)\n",
    "#in which calculations are done\n",
    "#stseps in this Q are...make a window, move it across the array, calculate average of element currently in window\n",
    "\n",
    "#create a 1D array rep the sliding window\n",
    "window=np.ones(window_size)/window_size\n",
    "window_size=2\n",
    "#print(window)\n",
    "arr=np.arange(20)\n",
    "averages=np.convolve(arr,window,mode='valid')\n",
    "print(averages)\n",
    "\n",
    "\n"
   ]
  },
  {
   "cell_type": "markdown",
   "metadata": {},
   "source": [
    "#### 76. Consider a one-dimensional array Z, build a two-dimensional array whose first row is (Z[0],Z[1],Z[2]) and each subsequent row is  shifted by 1 (last row should be (Z[-3],Z[-2],Z[-1]) (★★★)"
   ]
  },
  {
   "cell_type": "code",
   "execution_count": 94,
   "metadata": {},
   "outputs": [
    {
     "name": "stdout",
     "output_type": "stream",
     "text": [
      "[[1 2 3]\n",
      " [2 3 4]\n",
      " [3 4 5]\n",
      " [4 5 6]\n",
      " [5 6 7]]\n"
     ]
    }
   ],
   "source": [
    "Z = np.array([1, 2, 3,4,5,6,7])\n",
    "\n",
    "# Create a 2D array by shifting the elements\n",
    "result = np.column_stack((Z[:-2], Z[1:-1], Z[2:]))\n",
    "\n",
    "print(result)\n"
   ]
  },
  {
   "cell_type": "markdown",
   "metadata": {},
   "source": [
    "#### 77. How to negate a boolean, or to change the sign of a float inplace? (★★★)"
   ]
  },
  {
   "cell_type": "code",
   "execution_count": 98,
   "metadata": {},
   "outputs": [
    {
     "data": {
      "text/plain": [
       "array([-0.30832823, -0.51574121,  0.20612977, -0.73966318,  0.19537297,\n",
       "       -0.05688844,  0.73874662, -0.67016766,  0.14833295, -0.35201301,\n",
       "        0.00201108, -0.42158136, -0.16430265, -0.58238641,  0.62775921,\n",
       "        0.43775645, -0.96258027,  0.63293512,  0.43299932,  0.35361403,\n",
       "        0.76308092,  0.61203787,  0.52914386, -0.66029236, -0.6562827 ,\n",
       "       -0.25724026,  0.28551587,  0.0959827 ,  0.49290706,  0.62062837,\n",
       "       -0.19993329, -0.28199569,  0.69992815, -0.23264636, -0.49002936,\n",
       "        0.16736494, -0.31978718, -0.44595375, -0.92531888,  0.57720111,\n",
       "        0.02652981,  0.17023184, -0.76390489,  0.27068837,  0.65655816,\n",
       "       -0.32618192,  0.33844799,  0.56482515, -0.2381632 , -0.5356841 ,\n",
       "        0.28734979, -0.72986186,  0.06056801, -0.81711914,  0.17451924,\n",
       "       -0.47231002, -0.37540843, -0.19894817, -0.92418963,  0.02468558,\n",
       "       -0.81416054, -0.67581434, -0.66488019, -0.27012405,  0.05750485,\n",
       "       -0.15176038, -0.14663863, -0.03741588,  0.85552779,  0.87423089,\n",
       "       -0.97567724,  0.89212267,  0.47757363, -0.37795976, -0.91688997,\n",
       "        0.80590903,  0.13755705,  0.98349879, -0.10522337, -0.22886452,\n",
       "        0.53627996,  0.58322878, -0.09075003, -0.02435335, -0.72419078,\n",
       "       -0.66693063,  0.86596696, -0.10422655, -0.49116477, -0.63885895,\n",
       "        0.51653719, -0.90418646, -0.07065972, -0.062871  , -0.33645257,\n",
       "       -0.7152617 , -0.99150783, -0.04326809,  0.33642988,  0.39651699])"
      ]
     },
     "execution_count": 98,
     "metadata": {},
     "output_type": "execute_result"
    }
   ],
   "source": [
    "arr1= np.random.randint(0,2,100)\n",
    "np.logical_not(arr1, out=arr1)\n",
    "\n",
    "arr1= np.random.uniform(-1.0,1.0,100)\n",
    "np.negative(arr1, out=arr1)"
   ]
  },
  {
   "cell_type": "markdown",
   "metadata": {},
   "source": [
    "#### 78. Consider 2 sets of points P0,P1 describing lines (2d) and a point p, how to compute distance from p to each line i (P0[i],P1[i])? (★★★)"
   ]
  },
  {
   "cell_type": "code",
   "execution_count": 95,
   "metadata": {},
   "outputs": [
    {
     "name": "stdout",
     "output_type": "stream",
     "text": [
      "[ 5.89322444  9.34194661  8.84520208  0.12737483  8.43046057  5.25487548\n",
      "  9.06927217  0.97594721 10.18513052  0.91358368]\n"
     ]
    }
   ],
   "source": [
    "def distance(P0, P1, p):\n",
    "    T = P1 - P0\n",
    "    L = (T**2).sum(axis=1)\n",
    "    U = -((P0[:,0]-p[...,0])*T[:,0] + (P0[:,1]-p[...,1])*T[:,1]) / L\n",
    "    U = U.reshape(len(U),1)\n",
    "    D = P0 + U*T - p\n",
    "    return np.sqrt((D**2).sum(axis=1))\n",
    "\n",
    "P0 = np.random.uniform(-10,10,(10,2))\n",
    "P1 = np.random.uniform(-10,10,(10,2))\n",
    "p  = np.random.uniform(-10,10,( 1,2))\n",
    "print(distance(P0, P1, p))"
   ]
  },
  {
   "cell_type": "markdown",
   "metadata": {},
   "source": [
    "#### 79. Consider 2 sets of points P0,P1 describing lines (2d) and a set of points P, how to compute distance from each point j (P[j]) to each line i (P0[i],P1[i])? (★★★)"
   ]
  },
  {
   "cell_type": "code",
   "execution_count": 96,
   "metadata": {},
   "outputs": [
    {
     "name": "stdout",
     "output_type": "stream",
     "text": [
      "[[ 1.31068931  9.25127673 11.70593124  0.07997318  7.59085905 12.88800323\n",
      "  19.49266615  0.63270843  2.5594508   2.73315647]\n",
      " [ 5.42627975  4.62478637 13.00326136  4.09967539  3.00811637 10.27360011\n",
      "  19.58060887  2.13428968  2.13375835  5.76937705]\n",
      " [ 5.33489074 16.16960136  3.59366939  3.52941025 15.04143603  2.63520582\n",
      "   4.60368435 14.89260046  8.36416077 11.09046021]\n",
      " [ 1.1586095  17.55479856  0.11795175  0.57377462 16.24066391  7.51429019\n",
      "   8.84581922 12.79330082 10.12029427  9.31440083]\n",
      " [ 8.59576021 13.92448659  4.62272453  6.78175775 12.89175266  0.39176677\n",
      "   2.81419805 14.80653498  5.93602567 10.76960199]\n",
      " [ 4.81849379  8.72758709  7.86014525  3.3397382   7.25074068  8.35954166\n",
      "  15.09222086  3.34460933  1.66557861  0.30243141]\n",
      " [ 2.38975272 18.66315477  2.93447074  4.05716944 17.18807856 11.70591081\n",
      "  12.53987769 10.90796577 11.55009801  7.70474264]\n",
      " [ 4.7608191  13.49326729  1.03514437  3.08500953 12.21690337  5.23418279\n",
      "   8.93869558 10.35344189  6.00148013  6.63908613]\n",
      " [ 3.59003341 20.84428769  1.35159313  5.31084361 19.39203826 11.90884116\n",
      "  11.4255326  12.94834683 13.67447074  9.81106084]\n",
      " [14.62998927  8.96574563  5.36256085 12.83377293  8.07520627  5.45225493\n",
      "   0.55521765 13.45491952  0.71228732  8.99566411]]\n"
     ]
    }
   ],
   "source": [
    "P0 = np.random.uniform(-10, 10, (10,2))\n",
    "P1 = np.random.uniform(-10,10,(10,2))\n",
    "p = np.random.uniform(-10, 10, (10,2))\n",
    "print(np.array([distance(P0,P1,p_i) for p_i in p]))"
   ]
  },
  {
   "cell_type": "markdown",
   "metadata": {},
   "source": [
    "#### 80. Consider an arbitrary array, write a function that extract a subpart with a fixed shape and centered on a given element (pad with a `fill` value when necessary) (★★★)"
   ]
  },
  {
   "cell_type": "code",
   "execution_count": null,
   "metadata": {},
   "outputs": [],
   "source": []
  },
  {
   "cell_type": "markdown",
   "metadata": {},
   "source": [
    "#### 81. Consider an array Z = [1,2,3,4,5,6,7,8,9,10,11,12,13,14], how to generate an array R = [[1,2,3,4], [2,3,4,5], [3,4,5,6], ..., [11,12,13,14]]? (★★★)"
   ]
  },
  {
   "cell_type": "code",
   "execution_count": 105,
   "metadata": {},
   "outputs": [
    {
     "name": "stdout",
     "output_type": "stream",
     "text": [
      "[[ 1  2  3  4]\n",
      " [ 2  3  4  5]\n",
      " [ 3  4  5  6]\n",
      " [ 4  5  6  7]\n",
      " [ 5  6  7  8]\n",
      " [ 6  7  8  9]\n",
      " [ 7  8  9 10]\n",
      " [ 8  9 10 11]\n",
      " [ 9 10 11 12]\n",
      " [10 11 12 13]\n",
      " [11 12 13 14]]\n"
     ]
    }
   ],
   "source": [
    "Z = np.array([1, 2, 3, 4, 5, 6, 7, 8, 9, 10, 11, 12, 13, 14])\n",
    "\n",
    "# Specify the size of the sliding window\n",
    "window_size = 4\n",
    "\n",
    "# Use a list comprehension to create the subarrays\n",
    "R = [Z[i:i + window_size] for i in range(len(Z) - window_size + 1)]\n",
    "\n",
    "# Convert the list of subarrays to a NumPy array\n",
    "R = np.array(R)\n",
    "\n",
    "print(R)\n"
   ]
  },
  {
   "cell_type": "code",
   "execution_count": null,
   "metadata": {},
   "outputs": [],
   "source": []
  },
  {
   "cell_type": "markdown",
   "metadata": {},
   "source": [
    "#### 82. Compute a matrix rank (★★★)"
   ]
  },
  {
   "cell_type": "code",
   "execution_count": 78,
   "metadata": {},
   "outputs": [
    {
     "name": "stdout",
     "output_type": "stream",
     "text": [
      "10\n"
     ]
    }
   ],
   "source": [
    "Z = np.random.uniform(0,1,(10,10))\n",
    "U, S, V = np.linalg.svd(Z) # Singular Value Decomposition\n",
    "rank = np.sum(S > 1e-10)\n",
    "print(rank)"
   ]
  },
  {
   "cell_type": "markdown",
   "metadata": {},
   "source": [
    "#### 83. How to find the most frequent value in an array?"
   ]
  },
  {
   "cell_type": "code",
   "execution_count": 103,
   "metadata": {},
   "outputs": [
    {
     "name": "stdout",
     "output_type": "stream",
     "text": [
      "[4 9 0 6 1 9 7 7 6 3 2 5 8 5 2 8 3 0 8 0 5 2 5 9 9 4 7 7 9 9 1 1 2 9 3 0 6\n",
      " 9 2 6 8 4 2 4 7 6 3 8 0 9]\n",
      "9\n"
     ]
    }
   ],
   "source": [
    "arr1= np.random.randint(0,10,50)\n",
    "print(arr1)\n",
    "print(np.bincount(arr1).argmax())"
   ]
  },
  {
   "cell_type": "markdown",
   "metadata": {},
   "source": [
    "#### 84. Extract all the contiguous 3x3 blocks from a random 10x10 matrix (★★★)"
   ]
  },
  {
   "cell_type": "code",
   "execution_count": null,
   "metadata": {},
   "outputs": [],
   "source": []
  },
  {
   "cell_type": "markdown",
   "metadata": {},
   "source": [
    "#### 85. Create a 2D array subclass such that Z[i,j] == Z[j,i] (★★★)"
   ]
  },
  {
   "cell_type": "code",
   "execution_count": null,
   "metadata": {},
   "outputs": [],
   "source": [
    "class Symetric(np.ndarray):\n",
    "    def __setitem__(self, index, value):\n",
    "        i,j = index\n",
    "        super(Symetric, self).__setitem__((i,j), value)\n",
    "        super(Symetric, self).__setitem__((j,i), value)\n",
    "\n",
    "def symetric(Z):\n",
    "    return np.asarray(Z + Z.T - np.diag(Z.diagonal())).view(Symetric)\n",
    "\n",
    "S = symetric(np.random.randint(0,10,(5,5)))\n",
    "S[2,3] = 42\n",
    "print(S)"
   ]
  },
  {
   "cell_type": "markdown",
   "metadata": {},
   "source": [
    "#### 86. Consider a set of p matrices wich shape (n,n) and a set of p vectors with shape (n,1). How to compute the sum of of the p matrix products at once? (result has shape (n,1)) (★★★)"
   ]
  },
  {
   "cell_type": "code",
   "execution_count": 107,
   "metadata": {},
   "outputs": [
    {
     "name": "stdout",
     "output_type": "stream",
     "text": [
      "[[20.]\n",
      " [20.]]\n"
     ]
    }
   ],
   "source": [
    "p, n = 10, 2\n",
    "M = np.ones((p,n,n))\n",
    "V = np.ones((p,n,1))\n",
    "S = np.tensordot(M, V, axes=[[0, 2], [0, 1]])\n",
    "print(S)"
   ]
  },
  {
   "cell_type": "markdown",
   "metadata": {},
   "source": [
    "#### 87. Consider a 16x16 array, how to get the block-sum (block size is 4x4)? (★★★)"
   ]
  },
  {
   "cell_type": "code",
   "execution_count": 108,
   "metadata": {},
   "outputs": [
    {
     "name": "stdout",
     "output_type": "stream",
     "text": [
      "[[16. 16. 16. 16.]\n",
      " [16. 16. 16. 16.]\n",
      " [16. 16. 16. 16.]\n",
      " [16. 16. 16. 16.]]\n"
     ]
    }
   ],
   "source": [
    "arr1 = np.ones((16,16))\n",
    "k = 4\n",
    "arr2= np.add.reduceat(np.add.reduceat(arr1, np.arange(0, arr1.shape[0], k), axis=0),\n",
    "                                       np.arange(0, arr1.shape[1], k), axis=1)\n",
    "print(arr2)"
   ]
  },
  {
   "cell_type": "markdown",
   "metadata": {},
   "source": [
    "#### 88. How to implement the Game of Life using numpy arrays? (★★★)"
   ]
  },
  {
   "cell_type": "code",
   "execution_count": 79,
   "metadata": {},
   "outputs": [
    {
     "name": "stdout",
     "output_type": "stream",
     "text": [
      "[[0 0 0 ... 0 0 0]\n",
      " [0 0 0 ... 0 0 0]\n",
      " [0 0 0 ... 0 0 0]\n",
      " ...\n",
      " [0 0 0 ... 0 0 0]\n",
      " [0 0 0 ... 0 0 0]\n",
      " [0 0 0 ... 0 0 0]]\n"
     ]
    }
   ],
   "source": [
    "def iterate(Z):\n",
    "    # Count neighbours\n",
    "    N = (Z[0:-2,0:-2] + Z[0:-2,1:-1] + Z[0:-2,2:] +\n",
    "         Z[1:-1,0:-2]                + Z[1:-1,2:] +\n",
    "         Z[2:  ,0:-2] + Z[2:  ,1:-1] + Z[2:  ,2:])\n",
    "\n",
    "    # Apply rules\n",
    "    birth = (N==3) & (Z[1:-1,1:-1]==0)\n",
    "    survive = ((N==2) | (N==3)) & (Z[1:-1,1:-1]==1)\n",
    "    Z[...] = 0\n",
    "    Z[1:-1,1:-1][birth | survive] = 1\n",
    "    return Z\n",
    "\n",
    "Z = np.random.randint(0,2,(50,50))\n",
    "for i in range(100): Z = iterate(Z)\n",
    "print(Z)"
   ]
  },
  {
   "cell_type": "markdown",
   "metadata": {},
   "source": [
    "#### 89. How to get the n largest values of an array (★★★)"
   ]
  },
  {
   "cell_type": "code",
   "execution_count": 113,
   "metadata": {},
   "outputs": [
    {
     "name": "stdout",
     "output_type": "stream",
     "text": [
      "[10 11 12 13 14]\n"
     ]
    }
   ],
   "source": [
    "arr1= np.arange(10)\n",
    "np.random.shuffle(arr1)\n",
    "n = 5\n",
    "print (Z[np.argsort(Z)[-n:]])"
   ]
  },
  {
   "cell_type": "markdown",
   "metadata": {},
   "source": [
    "#### 90. Given an arbitrary number of vectors, build the cartesian product (every combinations of every item) (★★★)"
   ]
  },
  {
   "cell_type": "code",
   "execution_count": 80,
   "metadata": {},
   "outputs": [
    {
     "name": "stdout",
     "output_type": "stream",
     "text": [
      "[[1 4 6]\n",
      " [1 4 7]\n",
      " [1 5 6]\n",
      " [1 5 7]\n",
      " [2 4 6]\n",
      " [2 4 7]\n",
      " [2 5 6]\n",
      " [2 5 7]\n",
      " [3 4 6]\n",
      " [3 4 7]\n",
      " [3 5 6]\n",
      " [3 5 7]]\n"
     ]
    }
   ],
   "source": [
    "def cartesian(arrays):\n",
    "    arrays = [np.asarray(a) for a in arrays]\n",
    "    shape = (len(x) for x in arrays)\n",
    "\n",
    "    ix = np.indices(shape, dtype=int)\n",
    "    ix = ix.reshape(len(arrays), -1).T\n",
    "\n",
    "    for n, arr in enumerate(arrays):\n",
    "        ix[:, n] = arrays[n][ix[:, n]]\n",
    "\n",
    "    return ix\n",
    "\n",
    "print (cartesian(([1, 2, 3], [4, 5], [6, 7])))"
   ]
  },
  {
   "cell_type": "markdown",
   "metadata": {},
   "source": [
    "#### 91. How to create a record array from a regular array? (★★★)"
   ]
  },
  {
   "cell_type": "code",
   "execution_count": 117,
   "metadata": {},
   "outputs": [
    {
     "name": "stdout",
     "output_type": "stream",
     "text": [
      "[(b'Mine', 2.5, 3) (b'Valentin', 3.6, 2)]\n"
     ]
    }
   ],
   "source": [
    "arr1= np.array([(\"Mine\", 2.5, 3),\n",
    "              (\"Valentines\", 3.6, 2)])\n",
    "arr2= np.core.records.fromarrays(arr1.T, \n",
    "                               names='col1, col2, col3',\n",
    "                               formats = 'S8, f8, i8')\n",
    "print(arr2)"
   ]
  },
  {
   "cell_type": "markdown",
   "metadata": {},
   "source": [
    "#### 92. Consider a large vector Z, compute Z to the power of 3 using 3 different methods (★★★)"
   ]
  },
  {
   "cell_type": "code",
   "execution_count": null,
   "metadata": {},
   "outputs": [],
   "source": []
  },
  {
   "cell_type": "markdown",
   "metadata": {},
   "source": [
    "#### 93. Consider two arrays A and B of shape (8,3) and (2,2). How to find rows of A that contain elements of each row of B regardless of the order of the elements in B? (★★★)"
   ]
  },
  {
   "cell_type": "code",
   "execution_count": null,
   "metadata": {},
   "outputs": [],
   "source": [
    "A = np.random.randint(0,5,(8,3))\n",
    "B = np.random.randint(0,5,(2,2))\n",
    "\n",
    "C = (A[..., np.newaxis, np.newaxis] == B)\n",
    "rows = np.where(C.any((3,1)).all(1))[0]\n",
    "print(rows)"
   ]
  },
  {
   "cell_type": "markdown",
   "metadata": {},
   "source": [
    "#### 94. Considering a 10x3 matrix, extract rows with unequal values (e.g. [2,2,3]) (★★★)"
   ]
  },
  {
   "cell_type": "code",
   "execution_count": 122,
   "metadata": {},
   "outputs": [
    {
     "name": "stdout",
     "output_type": "stream",
     "text": [
      "[[0 4 2]\n",
      " [1 2 3]\n",
      " [1 3 1]\n",
      " [0 2 0]\n",
      " [1 2 2]\n",
      " [3 2 2]\n",
      " [0 4 0]\n",
      " [4 1 1]\n",
      " [4 2 3]\n",
      " [0 2 4]]\n",
      "[[0 4 2]\n",
      " [1 2 3]\n",
      " [1 3 1]\n",
      " [0 2 0]\n",
      " [1 2 2]\n",
      " [3 2 2]\n",
      " [0 4 0]\n",
      " [4 1 1]\n",
      " [4 2 3]\n",
      " [0 2 4]]\n"
     ]
    }
   ],
   "source": [
    "Z = np.random.randint(0,5,(10,3))\n",
    "print(Z)\n",
    "U = Z[~(Z[:,0,None]==Z[:,1:]).all(axis=1)]\n",
    "print(U)"
   ]
  },
  {
   "cell_type": "markdown",
   "metadata": {},
   "source": [
    "#### 95. Convert a vector of ints into a matrix binary representation (★★★)"
   ]
  },
  {
   "cell_type": "code",
   "execution_count": 121,
   "metadata": {},
   "outputs": [
    {
     "name": "stdout",
     "output_type": "stream",
     "text": [
      "[[0 0 0 0 0 0 0 0]\n",
      " [0 0 0 0 0 0 0 1]\n",
      " [0 0 0 0 0 0 1 0]\n",
      " [0 0 0 0 0 0 1 1]\n",
      " [0 0 0 0 1 1 1 1]\n",
      " [0 0 0 1 0 0 0 0]\n",
      " [0 0 1 0 0 0 0 0]\n",
      " [0 1 0 0 0 0 0 0]\n",
      " [1 0 0 0 0 0 0 0]]\n"
     ]
    }
   ],
   "source": [
    "I = np.array([0, 1, 2, 3, 15, 16, 32, 64, 128])\n",
    "B = ((I.reshape(-1,1) & (2**np.arange(8))) != 0).astype(int)\n",
    "print(B[:,::-1])"
   ]
  },
  {
   "cell_type": "markdown",
   "metadata": {},
   "source": [
    "#### 96. Given a two dimensional array, how to extract unique rows? (★★★)"
   ]
  },
  {
   "cell_type": "code",
   "execution_count": 124,
   "metadata": {},
   "outputs": [
    {
     "name": "stdout",
     "output_type": "stream",
     "text": [
      "Original 2D array:\n",
      "[[1 2 3]\n",
      " [4 5 6]\n",
      " [1 2 3]\n",
      " [7 8 9]\n",
      " [4 5 6]]\n",
      "\n",
      "Unique rows:\n",
      "[[1 2 3]\n",
      " [4 5 6]\n",
      " [7 8 9]]\n"
     ]
    }
   ],
   "source": [
    "# Create a 2D array with some repeated rows\n",
    "array_2d = np.array([[1, 2, 3],\n",
    "                     [4, 5, 6],\n",
    "                     [1, 2, 3],\n",
    "                     [7, 8, 9],\n",
    "                     [4, 5, 6]])\n",
    "\n",
    "# Use numpy.unique to extract unique rows\n",
    "unique_rows = np.unique(array_2d, axis=0)\n",
    "\n",
    "print(\"Original 2D array:\")\n",
    "print(array_2d)\n",
    "\n",
    "print(\"\\nUnique rows:\")\n",
    "print(unique_rows)\n"
   ]
  },
  {
   "cell_type": "markdown",
   "metadata": {},
   "source": [
    "#### 97. Considering 2 vectors A & B, write the einsum equivalent of inner, outer, sum, and mul function (★★★)"
   ]
  },
  {
   "cell_type": "code",
   "execution_count": 81,
   "metadata": {},
   "outputs": [
    {
     "data": {
      "text/plain": [
       "array([[0.34061967, 0.22808013, 0.33317369, 0.04742923, 0.17567392,\n",
       "        0.02994786, 0.11242512, 0.14641724, 0.28498634, 0.169676  ],\n",
       "       [0.40908459, 0.27392448, 0.40014196, 0.05696255, 0.21098457,\n",
       "        0.03596741, 0.13502269, 0.17584726, 0.3422689 , 0.20378106],\n",
       "       [0.0731198 , 0.04896128, 0.07152139, 0.01018149, 0.03771139,\n",
       "        0.00642882, 0.02413396, 0.03143095, 0.06117716, 0.03642384],\n",
       "       [0.67297294, 0.45062504, 0.65826169, 0.0937074 , 0.34708446,\n",
       "        0.05916892, 0.22212182, 0.28928112, 0.56305642, 0.33523418],\n",
       "       [0.03236851, 0.02167407, 0.03166093, 0.00450712, 0.01669399,\n",
       "        0.00284589, 0.01068357, 0.01391378, 0.02708177, 0.01612402],\n",
       "       [0.65575862, 0.43909827, 0.64142367, 0.09131041, 0.3382062 ,\n",
       "        0.05765541, 0.21644005, 0.28188145, 0.54865371, 0.32665906],\n",
       "       [0.08351793, 0.0559239 , 0.08169222, 0.01162937, 0.04307421,\n",
       "        0.00734304, 0.02756598, 0.03590064, 0.06987697, 0.04160355],\n",
       "       [0.75656249, 0.50659689, 0.74002395, 0.10534674, 0.3901956 ,\n",
       "        0.06651826, 0.24971143, 0.32521254, 0.6329933 , 0.37687341],\n",
       "       [0.72592241, 0.48608019, 0.71005367, 0.1010803 , 0.37439304,\n",
       "        0.06382433, 0.23959835, 0.31204174, 0.60735766, 0.36161039],\n",
       "       [0.34077792, 0.22818609, 0.33332848, 0.04745126, 0.17575553,\n",
       "        0.02996177, 0.11247735, 0.14648526, 0.28511874, 0.16975483]])"
      ]
     },
     "execution_count": 81,
     "metadata": {},
     "output_type": "execute_result"
    }
   ],
   "source": [
    "A = np.random.uniform(0,1,10)\n",
    "B = np.random.uniform(0,1,10)\n",
    "\n",
    "np.einsum('i->', A)       # np.sum(A)\n",
    "np.einsum('i,i->i', A, B) # A * B\n",
    "np.einsum('i,i', A, B)    # np.inner(A, B)\n",
    "np.einsum('i,j->ij', A, B)    # np.outer(A, B)"
   ]
  },
  {
   "cell_type": "markdown",
   "metadata": {},
   "source": [
    "#### 98. Considering a path described by two vectors (X,Y), how to sample it using equidistant samples (★★★)?"
   ]
  },
  {
   "cell_type": "code",
   "execution_count": 123,
   "metadata": {},
   "outputs": [],
   "source": [
    "phi = np.arange(0, 10*np.pi, 0.1)\n",
    "a = 1\n",
    "x = a*phi*np.cos(phi)\n",
    "y = a*phi*np.sin(phi)\n",
    "\n",
    "dr = (np.diff(x)**2 + np.diff(y)**2)**.5 # segment lengths\n",
    "r = np.zeros_like(x)\n",
    "r[1:] = np.cumsum(dr)                # integrate path\n",
    "r_int = np.linspace(0, r.max(), 200) # regular spaced path\n",
    "x_int = np.interp(r_int, r, x)       # integrate path\n",
    "y_int = np.interp(r_int, r, y)"
   ]
  },
  {
   "cell_type": "markdown",
   "metadata": {},
   "source": [
    "#### 99. Given an integer n and a 2D array X, select from X the rows which can be interpreted as draws from a multinomial distribution with n degrees, i.e., the rows which only contain integers and which sum to n. (★★★)"
   ]
  },
  {
   "cell_type": "code",
   "execution_count": null,
   "metadata": {},
   "outputs": [],
   "source": []
  },
  {
   "cell_type": "markdown",
   "metadata": {},
   "source": [
    "#### 100. Compute bootstrapped 95% confidence intervals for the mean of a 1D array X (i.e., resample the elements of an array with replacement N times, compute the mean of each sample, and then compute percentiles over the means). (★★★)"
   ]
  },
  {
   "cell_type": "code",
   "execution_count": 82,
   "metadata": {},
   "outputs": [
    {
     "name": "stdout",
     "output_type": "stream",
     "text": [
      "[-0.23500562  0.1674311 ]\n"
     ]
    }
   ],
   "source": [
    "X = np.random.randn(100) # random 1D array\n",
    "N = 1000 # number of bootstrap samples\n",
    "idx = np.random.randint(0, X.size, (N, X.size))\n",
    "means = X[idx].mean(axis=1)\n",
    "confint = np.percentile(means, [2.5, 97.5])\n",
    "print(confint)"
   ]
  },
  {
   "cell_type": "code",
   "execution_count": null,
   "metadata": {},
   "outputs": [],
   "source": []
  }
 ],
 "metadata": {
  "kernelspec": {
   "display_name": "Python 3 (ipykernel)",
   "language": "python",
   "name": "python3"
  },
  "language_info": {
   "codemirror_mode": {
    "name": "ipython",
    "version": 3
   },
   "file_extension": ".py",
   "mimetype": "text/x-python",
   "name": "python",
   "nbconvert_exporter": "python",
   "pygments_lexer": "ipython3",
   "version": "3.11.4"
  }
 },
 "nbformat": 4,
 "nbformat_minor": 4
}
