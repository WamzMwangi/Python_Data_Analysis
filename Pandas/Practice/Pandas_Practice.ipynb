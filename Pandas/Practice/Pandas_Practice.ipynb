{
 "cells": [
  {
   "cell_type": "code",
   "execution_count": 2,
   "id": "9fb43fcf-a647-4faf-97b4-2573ce8aad64",
   "metadata": {},
   "outputs": [],
   "source": [
    "import pandas as pd"
   ]
  },
  {
   "cell_type": "code",
   "execution_count": 4,
   "id": "3050ce73-3fee-44fe-8830-5db6707ceeef",
   "metadata": {},
   "outputs": [],
   "source": [
    "a=pd.Series([10,20,30,40,50,60],\n",
    "            index=['1','2','3','4','5','6'])"
   ]
  },
  {
   "cell_type": "code",
   "execution_count": 5,
   "id": "74efabb9-4de9-40da-9cdc-ef831b34e100",
   "metadata": {},
   "outputs": [
    {
     "name": "stdout",
     "output_type": "stream",
     "text": [
      "1    10\n",
      "2    20\n",
      "3    30\n",
      "4    40\n",
      "5    50\n",
      "6    60\n",
      "dtype: int64\n"
     ]
    }
   ],
   "source": [
    "print(a)"
   ]
  },
  {
   "cell_type": "code",
   "execution_count": 6,
   "id": "c178f41d-65e0-4615-9753-3303c47608c5",
   "metadata": {},
   "outputs": [
    {
     "data": {
      "text/plain": [
       "20"
      ]
     },
     "execution_count": 6,
     "metadata": {},
     "output_type": "execute_result"
    }
   ],
   "source": [
    "#acessing values using index\n",
    "a['2']"
   ]
  },
  {
   "cell_type": "code",
   "execution_count": 8,
   "id": "04fc4624-3aee-4659-bd0c-7a559a92d496",
   "metadata": {},
   "outputs": [
    {
     "data": {
      "text/plain": [
       "[('1', 10), ('2', 20), ('3', 30), ('4', 40), ('5', 50), ('6', 60)]"
      ]
     },
     "execution_count": 8,
     "metadata": {},
     "output_type": "execute_result"
    }
   ],
   "source": [
    "list(a.items())"
   ]
  },
  {
   "cell_type": "code",
   "execution_count": 9,
   "id": "53aecfcc-19fe-4048-a95c-91b92e2f4f68",
   "metadata": {},
   "outputs": [],
   "source": [
    "#adding a new value to a series, is just like in dictionaries\n",
    "a['7']=70"
   ]
  },
  {
   "cell_type": "code",
   "execution_count": 10,
   "id": "b5866409-30ce-45bf-b2ee-f21840d348d6",
   "metadata": {},
   "outputs": [
    {
     "name": "stdout",
     "output_type": "stream",
     "text": [
      "1    10\n",
      "2    20\n",
      "3    30\n",
      "4    40\n",
      "5    50\n",
      "6    60\n",
      "7    70\n",
      "dtype: int64\n"
     ]
    }
   ],
   "source": [
    "print(a)"
   ]
  },
  {
   "cell_type": "code",
   "execution_count": 11,
   "id": "97fd62cd-dc95-418f-8027-ff0a71538a7d",
   "metadata": {},
   "outputs": [
    {
     "data": {
      "text/plain": [
       "3    30\n",
       "4    40\n",
       "5    50\n",
       "6    60\n",
       "7    70\n",
       "dtype: int64"
      ]
     },
     "execution_count": 11,
     "metadata": {},
     "output_type": "execute_result"
    }
   ],
   "source": [
    "#slicing a series\n",
    "a['3':'7']"
   ]
  },
  {
   "cell_type": "code",
   "execution_count": 12,
   "id": "4e9af7c1-aaf8-4b8e-b71f-5e5216b6dda9",
   "metadata": {},
   "outputs": [
    {
     "data": {
      "text/plain": [
       "2    20\n",
       "3    30\n",
       "dtype: int64"
      ]
     },
     "execution_count": 12,
     "metadata": {},
     "output_type": "execute_result"
    }
   ],
   "source": [
    "#slicing using index\n",
    "a[1:3]"
   ]
  },
  {
   "cell_type": "code",
   "execution_count": 13,
   "id": "9b111898-3ea9-4d06-b2c9-d696431da321",
   "metadata": {},
   "outputs": [
    {
     "data": {
      "text/plain": [
       "array([10, 20, 30, 40, 50, 60, 70], dtype=int64)"
      ]
     },
     "execution_count": 13,
     "metadata": {},
     "output_type": "execute_result"
    }
   ],
   "source": [
    "a.values"
   ]
  },
  {
   "cell_type": "code",
   "execution_count": 15,
   "id": "22774208-9c42-41af-a5b7-bf1417e327c4",
   "metadata": {},
   "outputs": [
    {
     "data": {
      "text/plain": [
       "Index(['1', '2', '3', '4', '5', '6', '7'], dtype='object')"
      ]
     },
     "execution_count": 15,
     "metadata": {},
     "output_type": "execute_result"
    }
   ],
   "source": [
    "a.index"
   ]
  },
  {
   "cell_type": "code",
   "execution_count": 16,
   "id": "e532ac74-4cb1-4786-a1d0-ebfb8968f843",
   "metadata": {},
   "outputs": [],
   "source": [
    "class_data=pd.Series(['Agnes','Kevin','Michelle', 'Obama'])"
   ]
  },
  {
   "cell_type": "code",
   "execution_count": 17,
   "id": "cf942f4a-acca-4251-8883-c646bc9e8d9e",
   "metadata": {},
   "outputs": [
    {
     "data": {
      "text/plain": [
       "0       Agnes\n",
       "1       Kevin\n",
       "2    Michelle\n",
       "3       Obama\n",
       "dtype: object"
      ]
     },
     "execution_count": 17,
     "metadata": {},
     "output_type": "execute_result"
    }
   ],
   "source": [
    "class_data"
   ]
  },
  {
   "cell_type": "code",
   "execution_count": null,
   "id": "eb1528f9-03be-4d7e-a130-d4cad055e7e0",
   "metadata": {},
   "outputs": [],
   "source": [
    "class_data["
   ]
  }
 ],
 "metadata": {
  "kernelspec": {
   "display_name": "Python 3 (ipykernel)",
   "language": "python",
   "name": "python3"
  },
  "language_info": {
   "codemirror_mode": {
    "name": "ipython",
    "version": 3
   },
   "file_extension": ".py",
   "mimetype": "text/x-python",
   "name": "python",
   "nbconvert_exporter": "python",
   "pygments_lexer": "ipython3",
   "version": "3.11.4"
  }
 },
 "nbformat": 4,
 "nbformat_minor": 5
}
