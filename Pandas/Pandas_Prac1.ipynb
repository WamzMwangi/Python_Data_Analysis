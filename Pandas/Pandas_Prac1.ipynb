{
 "cells": [
  {
   "cell_type": "code",
   "execution_count": 55,
   "id": "c14eaf9a-7ed8-49f0-a376-c096e474a586",
   "metadata": {},
   "outputs": [
    {
     "name": "stdout",
     "output_type": "stream",
     "text": [
      "Collecting matplotlib\n",
      "  Downloading matplotlib-3.8.3-cp311-cp311-win_amd64.whl (7.6 MB)\n",
      "                                              0.0/7.6 MB ? eta -:--:--\n",
      "                                              0.0/7.6 MB ? eta -:--:--\n",
      "                                              0.0/7.6 MB 495.5 kB/s eta 0:00:16\n",
      "                                              0.1/7.6 MB 939.4 kB/s eta 0:00:09\n",
      "     -                                        0.2/7.6 MB 1.2 MB/s eta 0:00:06\n",
      "     -                                        0.4/7.6 MB 1.7 MB/s eta 0:00:05\n",
      "     --                                       0.4/7.6 MB 1.8 MB/s eta 0:00:05\n",
      "     --                                       0.5/7.6 MB 1.7 MB/s eta 0:00:05\n",
      "     ---                                      0.7/7.6 MB 2.0 MB/s eta 0:00:04\n",
      "     ----                                     0.9/7.6 MB 2.3 MB/s eta 0:00:03\n",
      "     -----                                    1.1/7.6 MB 2.6 MB/s eta 0:00:03\n",
      "     ------                                   1.2/7.6 MB 2.5 MB/s eta 0:00:03\n",
      "     -------                                  1.4/7.6 MB 2.7 MB/s eta 0:00:03\n",
      "     -------                                  1.5/7.6 MB 2.6 MB/s eta 0:00:03\n",
      "     --------                                 1.7/7.6 MB 2.7 MB/s eta 0:00:03\n",
      "     ---------                                1.9/7.6 MB 2.8 MB/s eta 0:00:03\n",
      "     ----------                               2.1/7.6 MB 2.9 MB/s eta 0:00:02\n",
      "     ------------                             2.3/7.6 MB 3.0 MB/s eta 0:00:02\n",
      "     ------------                             2.5/7.6 MB 3.0 MB/s eta 0:00:02\n",
      "     -------------                            2.7/7.6 MB 3.1 MB/s eta 0:00:02\n",
      "     --------------                           2.9/7.6 MB 3.2 MB/s eta 0:00:02\n",
      "     ---------------                          3.0/7.6 MB 3.1 MB/s eta 0:00:02\n",
      "     ----------------                         3.2/7.6 MB 3.2 MB/s eta 0:00:02\n",
      "     -----------------                        3.3/7.6 MB 3.2 MB/s eta 0:00:02\n",
      "     ------------------                       3.5/7.6 MB 3.2 MB/s eta 0:00:02\n",
      "     ------------------                       3.6/7.6 MB 3.2 MB/s eta 0:00:02\n",
      "     -------------------                      3.8/7.6 MB 3.2 MB/s eta 0:00:02\n",
      "     --------------------                     4.0/7.6 MB 3.2 MB/s eta 0:00:02\n",
      "     ---------------------                    4.2/7.6 MB 3.2 MB/s eta 0:00:02\n",
      "     -----------------------                  4.4/7.6 MB 3.3 MB/s eta 0:00:01\n",
      "     -----------------------                  4.5/7.6 MB 3.3 MB/s eta 0:00:01\n",
      "     ------------------------                 4.7/7.6 MB 3.4 MB/s eta 0:00:01\n",
      "     -------------------------                4.9/7.6 MB 3.3 MB/s eta 0:00:01\n",
      "     --------------------------               5.1/7.6 MB 3.4 MB/s eta 0:00:01\n",
      "     ---------------------------              5.2/7.6 MB 3.4 MB/s eta 0:00:01\n",
      "     ----------------------------             5.4/7.6 MB 3.4 MB/s eta 0:00:01\n",
      "     -----------------------------            5.6/7.6 MB 3.4 MB/s eta 0:00:01\n",
      "     -----------------------------            5.7/7.6 MB 3.4 MB/s eta 0:00:01\n",
      "     -----------------------------            5.7/7.6 MB 3.4 MB/s eta 0:00:01\n",
      "     -----------------------------            5.7/7.6 MB 3.2 MB/s eta 0:00:01\n",
      "     -----------------------------            5.7/7.6 MB 3.2 MB/s eta 0:00:01\n",
      "     -----------------------------            5.7/7.6 MB 3.2 MB/s eta 0:00:01\n",
      "     -----------------------------            5.7/7.6 MB 3.2 MB/s eta 0:00:01\n",
      "     ------------------------------           5.8/7.6 MB 2.9 MB/s eta 0:00:01\n",
      "     -------------------------------          6.0/7.6 MB 2.9 MB/s eta 0:00:01\n",
      "     --------------------------------         6.2/7.6 MB 3.0 MB/s eta 0:00:01\n",
      "     ---------------------------------        6.4/7.6 MB 3.0 MB/s eta 0:00:01\n",
      "     ----------------------------------       6.6/7.6 MB 3.0 MB/s eta 0:00:01\n",
      "     -----------------------------------      6.7/7.6 MB 3.1 MB/s eta 0:00:01\n",
      "     ------------------------------------     6.9/7.6 MB 3.1 MB/s eta 0:00:01\n",
      "     -------------------------------------    7.2/7.6 MB 3.1 MB/s eta 0:00:01\n",
      "     --------------------------------------   7.4/7.6 MB 3.1 MB/s eta 0:00:01\n",
      "     ---------------------------------------  7.5/7.6 MB 3.1 MB/s eta 0:00:01\n",
      "     ---------------------------------------  7.6/7.6 MB 3.1 MB/s eta 0:00:01\n",
      "     ---------------------------------------- 7.6/7.6 MB 3.1 MB/s eta 0:00:00\n",
      "Collecting contourpy>=1.0.1 (from matplotlib)\n",
      "  Using cached contourpy-1.2.0-cp311-cp311-win_amd64.whl (187 kB)\n",
      "Collecting cycler>=0.10 (from matplotlib)\n",
      "  Using cached cycler-0.12.1-py3-none-any.whl (8.3 kB)\n",
      "Collecting fonttools>=4.22.0 (from matplotlib)\n",
      "  Downloading fonttools-4.49.0-cp311-cp311-win_amd64.whl (2.2 MB)\n",
      "                                              0.0/2.2 MB ? eta -:--:--\n",
      "     --                                       0.2/2.2 MB 3.1 MB/s eta 0:00:01\n",
      "     ----                                     0.3/2.2 MB 3.1 MB/s eta 0:00:01\n",
      "     -------                                  0.4/2.2 MB 3.4 MB/s eta 0:00:01\n",
      "     ----------                               0.6/2.2 MB 3.1 MB/s eta 0:00:01\n",
      "     --------------                           0.8/2.2 MB 3.4 MB/s eta 0:00:01\n",
      "     -----------------                        1.0/2.2 MB 3.5 MB/s eta 0:00:01\n",
      "     --------------------                     1.1/2.2 MB 3.5 MB/s eta 0:00:01\n",
      "     ---------------------                    1.2/2.2 MB 3.2 MB/s eta 0:00:01\n",
      "     -----------------------                  1.3/2.2 MB 3.2 MB/s eta 0:00:01\n",
      "     ---------------------------              1.5/2.2 MB 3.3 MB/s eta 0:00:01\n",
      "     --------------------------------         1.8/2.2 MB 3.5 MB/s eta 0:00:01\n",
      "     -----------------------------------      1.9/2.2 MB 3.5 MB/s eta 0:00:01\n",
      "     ---------------------------------------  2.2/2.2 MB 3.6 MB/s eta 0:00:01\n",
      "     ---------------------------------------- 2.2/2.2 MB 3.5 MB/s eta 0:00:00\n",
      "Collecting kiwisolver>=1.3.1 (from matplotlib)\n",
      "  Using cached kiwisolver-1.4.5-cp311-cp311-win_amd64.whl (56 kB)\n",
      "Requirement already satisfied: numpy<2,>=1.21 in c:\\users\\user\\desktop\\zindua_class_data\\python_data_analysis\\numpy\\venv\\lib\\site-packages (from matplotlib) (1.26.4)\n",
      "Requirement already satisfied: packaging>=20.0 in c:\\users\\user\\desktop\\zindua_class_data\\python_data_analysis\\numpy\\venv\\lib\\site-packages (from matplotlib) (23.2)\n",
      "Collecting pillow>=8 (from matplotlib)\n",
      "  Using cached pillow-10.2.0-cp311-cp311-win_amd64.whl (2.6 MB)\n",
      "Collecting pyparsing>=2.3.1 (from matplotlib)\n",
      "  Using cached pyparsing-3.1.1-py3-none-any.whl (103 kB)\n",
      "Requirement already satisfied: python-dateutil>=2.7 in c:\\users\\user\\desktop\\zindua_class_data\\python_data_analysis\\numpy\\venv\\lib\\site-packages (from matplotlib) (2.8.2)\n",
      "Requirement already satisfied: six>=1.5 in c:\\users\\user\\desktop\\zindua_class_data\\python_data_analysis\\numpy\\venv\\lib\\site-packages (from python-dateutil>=2.7->matplotlib) (1.16.0)\n",
      "Installing collected packages: pyparsing, pillow, kiwisolver, fonttools, cycler, contourpy, matplotlib\n",
      "Successfully installed contourpy-1.2.0 cycler-0.12.1 fonttools-4.49.0 kiwisolver-1.4.5 matplotlib-3.8.3 pillow-10.2.0 pyparsing-3.1.1\n",
      "Note: you may need to restart the kernel to use updated packages.\n"
     ]
    },
    {
     "name": "stderr",
     "output_type": "stream",
     "text": [
      "\n",
      "[notice] A new release of pip is available: 23.1.2 -> 24.0\n",
      "[notice] To update, run: python.exe -m pip install --upgrade pip\n"
     ]
    }
   ],
   "source": [
    "pip install matplotlib"
   ]
  },
  {
   "cell_type": "code",
   "execution_count": 1,
   "id": "b8f828ee-9da5-4f33-94dc-697cd3dc5392",
   "metadata": {},
   "outputs": [
    {
     "name": "stderr",
     "output_type": "stream",
     "text": [
      "C:\\Users\\User\\AppData\\Local\\Temp\\ipykernel_9080\\4080736814.py:1: DeprecationWarning: \n",
      "Pyarrow will become a required dependency of pandas in the next major release of pandas (pandas 3.0),\n",
      "(to allow more performant data types, such as the Arrow string type, and better interoperability with other libraries)\n",
      "but was not found to be installed on your system.\n",
      "If this would cause problems for you,\n",
      "please provide us feedback at https://github.com/pandas-dev/pandas/issues/54466\n",
      "        \n",
      "  import pandas as pd\n"
     ]
    }
   ],
   "source": [
    "import pandas as pd"
   ]
  },
  {
   "cell_type": "code",
   "execution_count": 56,
   "id": "c03195ad-a520-4c44-ba13-ac16b4017a79",
   "metadata": {},
   "outputs": [],
   "source": [
    "import matplotlib as plt"
   ]
  },
  {
   "cell_type": "code",
   "execution_count": 19,
   "id": "52189566-295b-4b1e-b262-60cac3d43b29",
   "metadata": {},
   "outputs": [],
   "source": [
    "import datetime as dt"
   ]
  },
  {
   "cell_type": "code",
   "execution_count": 2,
   "id": "18b7b40a-5443-411f-97f7-567fb2e12378",
   "metadata": {},
   "outputs": [],
   "source": [
    "df1=pd.read_csv(r\"C:\\Users\\User\\Downloads\\QVI_purchase_behaviour.csv\")"
   ]
  },
  {
   "cell_type": "code",
   "execution_count": 3,
   "id": "328d04b1-4b0f-4b91-a466-506cec1cb70c",
   "metadata": {},
   "outputs": [],
   "source": [
    "df2=pd.read_excel(r'C:\\Users\\User\\Downloads\\QVI_transaction_data.xlsx')"
   ]
  },
  {
   "cell_type": "code",
   "execution_count": 5,
   "id": "049b7c0d-2e59-43b4-ab17-28ab26625de2",
   "metadata": {},
   "outputs": [
    {
     "data": {
      "text/html": [
       "<div>\n",
       "<style scoped>\n",
       "    .dataframe tbody tr th:only-of-type {\n",
       "        vertical-align: middle;\n",
       "    }\n",
       "\n",
       "    .dataframe tbody tr th {\n",
       "        vertical-align: top;\n",
       "    }\n",
       "\n",
       "    .dataframe thead th {\n",
       "        text-align: right;\n",
       "    }\n",
       "</style>\n",
       "<table border=\"1\" class=\"dataframe\">\n",
       "  <thead>\n",
       "    <tr style=\"text-align: right;\">\n",
       "      <th></th>\n",
       "      <th>LYLTY_CARD_NBR</th>\n",
       "      <th>LIFESTAGE</th>\n",
       "      <th>PREMIUM_CUSTOMER</th>\n",
       "    </tr>\n",
       "  </thead>\n",
       "  <tbody>\n",
       "    <tr>\n",
       "      <th>0</th>\n",
       "      <td>1000</td>\n",
       "      <td>YOUNG SINGLES/COUPLES</td>\n",
       "      <td>Premium</td>\n",
       "    </tr>\n",
       "    <tr>\n",
       "      <th>1</th>\n",
       "      <td>1002</td>\n",
       "      <td>YOUNG SINGLES/COUPLES</td>\n",
       "      <td>Mainstream</td>\n",
       "    </tr>\n",
       "    <tr>\n",
       "      <th>2</th>\n",
       "      <td>1003</td>\n",
       "      <td>YOUNG FAMILIES</td>\n",
       "      <td>Budget</td>\n",
       "    </tr>\n",
       "    <tr>\n",
       "      <th>3</th>\n",
       "      <td>1004</td>\n",
       "      <td>OLDER SINGLES/COUPLES</td>\n",
       "      <td>Mainstream</td>\n",
       "    </tr>\n",
       "    <tr>\n",
       "      <th>4</th>\n",
       "      <td>1005</td>\n",
       "      <td>MIDAGE SINGLES/COUPLES</td>\n",
       "      <td>Mainstream</td>\n",
       "    </tr>\n",
       "    <tr>\n",
       "      <th>5</th>\n",
       "      <td>1007</td>\n",
       "      <td>YOUNG SINGLES/COUPLES</td>\n",
       "      <td>Budget</td>\n",
       "    </tr>\n",
       "    <tr>\n",
       "      <th>6</th>\n",
       "      <td>1009</td>\n",
       "      <td>NEW FAMILIES</td>\n",
       "      <td>Premium</td>\n",
       "    </tr>\n",
       "    <tr>\n",
       "      <th>7</th>\n",
       "      <td>1010</td>\n",
       "      <td>YOUNG SINGLES/COUPLES</td>\n",
       "      <td>Mainstream</td>\n",
       "    </tr>\n",
       "    <tr>\n",
       "      <th>8</th>\n",
       "      <td>1011</td>\n",
       "      <td>OLDER SINGLES/COUPLES</td>\n",
       "      <td>Mainstream</td>\n",
       "    </tr>\n",
       "    <tr>\n",
       "      <th>9</th>\n",
       "      <td>1012</td>\n",
       "      <td>OLDER FAMILIES</td>\n",
       "      <td>Mainstream</td>\n",
       "    </tr>\n",
       "  </tbody>\n",
       "</table>\n",
       "</div>"
      ],
      "text/plain": [
       "   LYLTY_CARD_NBR               LIFESTAGE PREMIUM_CUSTOMER\n",
       "0            1000   YOUNG SINGLES/COUPLES          Premium\n",
       "1            1002   YOUNG SINGLES/COUPLES       Mainstream\n",
       "2            1003          YOUNG FAMILIES           Budget\n",
       "3            1004   OLDER SINGLES/COUPLES       Mainstream\n",
       "4            1005  MIDAGE SINGLES/COUPLES       Mainstream\n",
       "5            1007   YOUNG SINGLES/COUPLES           Budget\n",
       "6            1009            NEW FAMILIES          Premium\n",
       "7            1010   YOUNG SINGLES/COUPLES       Mainstream\n",
       "8            1011   OLDER SINGLES/COUPLES       Mainstream\n",
       "9            1012          OLDER FAMILIES       Mainstream"
      ]
     },
     "execution_count": 5,
     "metadata": {},
     "output_type": "execute_result"
    }
   ],
   "source": [
    "df1.head(10)"
   ]
  },
  {
   "cell_type": "code",
   "execution_count": 6,
   "id": "8fbaf99b-6ed7-4dd8-a4de-5f9f35483fc1",
   "metadata": {},
   "outputs": [
    {
     "data": {
      "text/html": [
       "<div>\n",
       "<style scoped>\n",
       "    .dataframe tbody tr th:only-of-type {\n",
       "        vertical-align: middle;\n",
       "    }\n",
       "\n",
       "    .dataframe tbody tr th {\n",
       "        vertical-align: top;\n",
       "    }\n",
       "\n",
       "    .dataframe thead th {\n",
       "        text-align: right;\n",
       "    }\n",
       "</style>\n",
       "<table border=\"1\" class=\"dataframe\">\n",
       "  <thead>\n",
       "    <tr style=\"text-align: right;\">\n",
       "      <th></th>\n",
       "      <th>DATE</th>\n",
       "      <th>STORE_NBR</th>\n",
       "      <th>LYLTY_CARD_NBR</th>\n",
       "      <th>TXN_ID</th>\n",
       "      <th>PROD_NBR</th>\n",
       "      <th>PROD_NAME</th>\n",
       "      <th>PROD_QTY</th>\n",
       "      <th>TOT_SALES</th>\n",
       "    </tr>\n",
       "  </thead>\n",
       "  <tbody>\n",
       "    <tr>\n",
       "      <th>0</th>\n",
       "      <td>43390</td>\n",
       "      <td>1</td>\n",
       "      <td>1000</td>\n",
       "      <td>1</td>\n",
       "      <td>5</td>\n",
       "      <td>Natural Chip        Compny SeaSalt175g</td>\n",
       "      <td>2</td>\n",
       "      <td>6.0</td>\n",
       "    </tr>\n",
       "    <tr>\n",
       "      <th>1</th>\n",
       "      <td>43599</td>\n",
       "      <td>1</td>\n",
       "      <td>1307</td>\n",
       "      <td>348</td>\n",
       "      <td>66</td>\n",
       "      <td>CCs Nacho Cheese    175g</td>\n",
       "      <td>3</td>\n",
       "      <td>6.3</td>\n",
       "    </tr>\n",
       "    <tr>\n",
       "      <th>2</th>\n",
       "      <td>43605</td>\n",
       "      <td>1</td>\n",
       "      <td>1343</td>\n",
       "      <td>383</td>\n",
       "      <td>61</td>\n",
       "      <td>Smiths Crinkle Cut  Chips Chicken 170g</td>\n",
       "      <td>2</td>\n",
       "      <td>2.9</td>\n",
       "    </tr>\n",
       "  </tbody>\n",
       "</table>\n",
       "</div>"
      ],
      "text/plain": [
       "    DATE  STORE_NBR  LYLTY_CARD_NBR  TXN_ID  PROD_NBR  \\\n",
       "0  43390          1            1000       1         5   \n",
       "1  43599          1            1307     348        66   \n",
       "2  43605          1            1343     383        61   \n",
       "\n",
       "                                PROD_NAME  PROD_QTY  TOT_SALES  \n",
       "0  Natural Chip        Compny SeaSalt175g         2        6.0  \n",
       "1                CCs Nacho Cheese    175g         3        6.3  \n",
       "2  Smiths Crinkle Cut  Chips Chicken 170g         2        2.9  "
      ]
     },
     "execution_count": 6,
     "metadata": {},
     "output_type": "execute_result"
    }
   ],
   "source": [
    "df2.head(3)"
   ]
  },
  {
   "cell_type": "code",
   "execution_count": 7,
   "id": "d19c3796-0ff2-4e0f-a245-0d2b5e3a251e",
   "metadata": {},
   "outputs": [
    {
     "name": "stdout",
     "output_type": "stream",
     "text": [
      "<class 'pandas.core.frame.DataFrame'>\n",
      "RangeIndex: 72637 entries, 0 to 72636\n",
      "Data columns (total 3 columns):\n",
      " #   Column            Non-Null Count  Dtype \n",
      "---  ------            --------------  ----- \n",
      " 0   LYLTY_CARD_NBR    72637 non-null  int64 \n",
      " 1   LIFESTAGE         72637 non-null  object\n",
      " 2   PREMIUM_CUSTOMER  72637 non-null  object\n",
      "dtypes: int64(1), object(2)\n",
      "memory usage: 1.7+ MB\n"
     ]
    }
   ],
   "source": [
    "df1.info()"
   ]
  },
  {
   "cell_type": "code",
   "execution_count": 20,
   "id": "896bd43d-ef05-45bc-9aab-fdf4c268038c",
   "metadata": {},
   "outputs": [
    {
     "name": "stdout",
     "output_type": "stream",
     "text": [
      "<class 'pandas.core.frame.DataFrame'>\n",
      "RangeIndex: 264836 entries, 0 to 264835\n",
      "Data columns (total 8 columns):\n",
      " #   Column          Non-Null Count   Dtype  \n",
      "---  ------          --------------   -----  \n",
      " 0   DATE            264836 non-null  int64  \n",
      " 1   STORE_NBR       264836 non-null  int64  \n",
      " 2   LYLTY_CARD_NBR  264836 non-null  int64  \n",
      " 3   TXN_ID          264836 non-null  int64  \n",
      " 4   PROD_NBR        264836 non-null  int64  \n",
      " 5   PROD_NAME       264836 non-null  object \n",
      " 6   PROD_QTY        264836 non-null  int64  \n",
      " 7   TOT_SALES       264836 non-null  float64\n",
      "dtypes: float64(1), int64(6), object(1)\n",
      "memory usage: 16.2+ MB\n"
     ]
    }
   ],
   "source": [
    "df2.info()"
   ]
  },
  {
   "cell_type": "code",
   "execution_count": 8,
   "id": "c8656f4c-c8a1-460f-a153-092967e5089a",
   "metadata": {},
   "outputs": [
    {
     "data": {
      "text/html": [
       "<div>\n",
       "<style scoped>\n",
       "    .dataframe tbody tr th:only-of-type {\n",
       "        vertical-align: middle;\n",
       "    }\n",
       "\n",
       "    .dataframe tbody tr th {\n",
       "        vertical-align: top;\n",
       "    }\n",
       "\n",
       "    .dataframe thead th {\n",
       "        text-align: right;\n",
       "    }\n",
       "</style>\n",
       "<table border=\"1\" class=\"dataframe\">\n",
       "  <thead>\n",
       "    <tr style=\"text-align: right;\">\n",
       "      <th></th>\n",
       "      <th>LYLTY_CARD_NBR</th>\n",
       "    </tr>\n",
       "  </thead>\n",
       "  <tbody>\n",
       "    <tr>\n",
       "      <th>count</th>\n",
       "      <td>7.263700e+04</td>\n",
       "    </tr>\n",
       "    <tr>\n",
       "      <th>mean</th>\n",
       "      <td>1.361859e+05</td>\n",
       "    </tr>\n",
       "    <tr>\n",
       "      <th>std</th>\n",
       "      <td>8.989293e+04</td>\n",
       "    </tr>\n",
       "    <tr>\n",
       "      <th>min</th>\n",
       "      <td>1.000000e+03</td>\n",
       "    </tr>\n",
       "    <tr>\n",
       "      <th>25%</th>\n",
       "      <td>6.620200e+04</td>\n",
       "    </tr>\n",
       "    <tr>\n",
       "      <th>50%</th>\n",
       "      <td>1.340400e+05</td>\n",
       "    </tr>\n",
       "    <tr>\n",
       "      <th>75%</th>\n",
       "      <td>2.033750e+05</td>\n",
       "    </tr>\n",
       "    <tr>\n",
       "      <th>max</th>\n",
       "      <td>2.373711e+06</td>\n",
       "    </tr>\n",
       "  </tbody>\n",
       "</table>\n",
       "</div>"
      ],
      "text/plain": [
       "       LYLTY_CARD_NBR\n",
       "count    7.263700e+04\n",
       "mean     1.361859e+05\n",
       "std      8.989293e+04\n",
       "min      1.000000e+03\n",
       "25%      6.620200e+04\n",
       "50%      1.340400e+05\n",
       "75%      2.033750e+05\n",
       "max      2.373711e+06"
      ]
     },
     "execution_count": 8,
     "metadata": {},
     "output_type": "execute_result"
    }
   ],
   "source": [
    "df1.describe()"
   ]
  },
  {
   "cell_type": "code",
   "execution_count": 22,
   "id": "f6c56589-ae5e-4209-89a7-c5456b76793b",
   "metadata": {},
   "outputs": [
    {
     "data": {
      "text/html": [
       "<div>\n",
       "<style scoped>\n",
       "    .dataframe tbody tr th:only-of-type {\n",
       "        vertical-align: middle;\n",
       "    }\n",
       "\n",
       "    .dataframe tbody tr th {\n",
       "        vertical-align: top;\n",
       "    }\n",
       "\n",
       "    .dataframe thead th {\n",
       "        text-align: right;\n",
       "    }\n",
       "</style>\n",
       "<table border=\"1\" class=\"dataframe\">\n",
       "  <thead>\n",
       "    <tr style=\"text-align: right;\">\n",
       "      <th></th>\n",
       "      <th>DATE</th>\n",
       "      <th>STORE_NBR</th>\n",
       "      <th>LYLTY_CARD_NBR</th>\n",
       "      <th>TXN_ID</th>\n",
       "      <th>PROD_NBR</th>\n",
       "      <th>PROD_QTY</th>\n",
       "      <th>TOT_SALES</th>\n",
       "    </tr>\n",
       "  </thead>\n",
       "  <tbody>\n",
       "    <tr>\n",
       "      <th>count</th>\n",
       "      <td>264836.000000</td>\n",
       "      <td>264836.00000</td>\n",
       "      <td>2.648360e+05</td>\n",
       "      <td>2.648360e+05</td>\n",
       "      <td>264836.000000</td>\n",
       "      <td>264836.000000</td>\n",
       "      <td>264836.000000</td>\n",
       "    </tr>\n",
       "    <tr>\n",
       "      <th>mean</th>\n",
       "      <td>43464.036260</td>\n",
       "      <td>135.08011</td>\n",
       "      <td>1.355495e+05</td>\n",
       "      <td>1.351583e+05</td>\n",
       "      <td>56.583157</td>\n",
       "      <td>1.907309</td>\n",
       "      <td>7.304200</td>\n",
       "    </tr>\n",
       "    <tr>\n",
       "      <th>std</th>\n",
       "      <td>105.389282</td>\n",
       "      <td>76.78418</td>\n",
       "      <td>8.057998e+04</td>\n",
       "      <td>7.813303e+04</td>\n",
       "      <td>32.826638</td>\n",
       "      <td>0.643654</td>\n",
       "      <td>3.083226</td>\n",
       "    </tr>\n",
       "    <tr>\n",
       "      <th>min</th>\n",
       "      <td>43282.000000</td>\n",
       "      <td>1.00000</td>\n",
       "      <td>1.000000e+03</td>\n",
       "      <td>1.000000e+00</td>\n",
       "      <td>1.000000</td>\n",
       "      <td>1.000000</td>\n",
       "      <td>1.500000</td>\n",
       "    </tr>\n",
       "    <tr>\n",
       "      <th>25%</th>\n",
       "      <td>43373.000000</td>\n",
       "      <td>70.00000</td>\n",
       "      <td>7.002100e+04</td>\n",
       "      <td>6.760150e+04</td>\n",
       "      <td>28.000000</td>\n",
       "      <td>2.000000</td>\n",
       "      <td>5.400000</td>\n",
       "    </tr>\n",
       "    <tr>\n",
       "      <th>50%</th>\n",
       "      <td>43464.000000</td>\n",
       "      <td>130.00000</td>\n",
       "      <td>1.303575e+05</td>\n",
       "      <td>1.351375e+05</td>\n",
       "      <td>56.000000</td>\n",
       "      <td>2.000000</td>\n",
       "      <td>7.400000</td>\n",
       "    </tr>\n",
       "    <tr>\n",
       "      <th>75%</th>\n",
       "      <td>43555.000000</td>\n",
       "      <td>203.00000</td>\n",
       "      <td>2.030942e+05</td>\n",
       "      <td>2.027012e+05</td>\n",
       "      <td>85.000000</td>\n",
       "      <td>2.000000</td>\n",
       "      <td>9.200000</td>\n",
       "    </tr>\n",
       "    <tr>\n",
       "      <th>max</th>\n",
       "      <td>43646.000000</td>\n",
       "      <td>272.00000</td>\n",
       "      <td>2.373711e+06</td>\n",
       "      <td>2.415841e+06</td>\n",
       "      <td>114.000000</td>\n",
       "      <td>200.000000</td>\n",
       "      <td>650.000000</td>\n",
       "    </tr>\n",
       "  </tbody>\n",
       "</table>\n",
       "</div>"
      ],
      "text/plain": [
       "                DATE     STORE_NBR  LYLTY_CARD_NBR        TXN_ID  \\\n",
       "count  264836.000000  264836.00000    2.648360e+05  2.648360e+05   \n",
       "mean    43464.036260     135.08011    1.355495e+05  1.351583e+05   \n",
       "std       105.389282      76.78418    8.057998e+04  7.813303e+04   \n",
       "min     43282.000000       1.00000    1.000000e+03  1.000000e+00   \n",
       "25%     43373.000000      70.00000    7.002100e+04  6.760150e+04   \n",
       "50%     43464.000000     130.00000    1.303575e+05  1.351375e+05   \n",
       "75%     43555.000000     203.00000    2.030942e+05  2.027012e+05   \n",
       "max     43646.000000     272.00000    2.373711e+06  2.415841e+06   \n",
       "\n",
       "            PROD_NBR       PROD_QTY      TOT_SALES  \n",
       "count  264836.000000  264836.000000  264836.000000  \n",
       "mean       56.583157       1.907309       7.304200  \n",
       "std        32.826638       0.643654       3.083226  \n",
       "min         1.000000       1.000000       1.500000  \n",
       "25%        28.000000       2.000000       5.400000  \n",
       "50%        56.000000       2.000000       7.400000  \n",
       "75%        85.000000       2.000000       9.200000  \n",
       "max       114.000000     200.000000     650.000000  "
      ]
     },
     "execution_count": 22,
     "metadata": {},
     "output_type": "execute_result"
    }
   ],
   "source": [
    "df2.describe()"
   ]
  },
  {
   "cell_type": "code",
   "execution_count": 22,
   "id": "48416eb7-25bd-4c30-b9dd-961950ec4788",
   "metadata": {},
   "outputs": [],
   "source": [
    "merged_df=pd.merge(df1,df2,on='LYLTY_CARD_NBR')"
   ]
  },
  {
   "cell_type": "code",
   "execution_count": 23,
   "id": "e7c3e3b6-a657-455f-97c8-2281a5fa70d2",
   "metadata": {},
   "outputs": [
    {
     "data": {
      "text/html": [
       "<div>\n",
       "<style scoped>\n",
       "    .dataframe tbody tr th:only-of-type {\n",
       "        vertical-align: middle;\n",
       "    }\n",
       "\n",
       "    .dataframe tbody tr th {\n",
       "        vertical-align: top;\n",
       "    }\n",
       "\n",
       "    .dataframe thead th {\n",
       "        text-align: right;\n",
       "    }\n",
       "</style>\n",
       "<table border=\"1\" class=\"dataframe\">\n",
       "  <thead>\n",
       "    <tr style=\"text-align: right;\">\n",
       "      <th></th>\n",
       "      <th>LYLTY_CARD_NBR</th>\n",
       "      <th>LIFESTAGE</th>\n",
       "      <th>PREMIUM_CUSTOMER</th>\n",
       "      <th>DATE</th>\n",
       "      <th>STORE_NBR</th>\n",
       "      <th>TXN_ID</th>\n",
       "      <th>PROD_NBR</th>\n",
       "      <th>PROD_NAME</th>\n",
       "      <th>PROD_QTY</th>\n",
       "      <th>TOT_SALES</th>\n",
       "    </tr>\n",
       "  </thead>\n",
       "  <tbody>\n",
       "    <tr>\n",
       "      <th>0</th>\n",
       "      <td>1000</td>\n",
       "      <td>YOUNG SINGLES/COUPLES</td>\n",
       "      <td>Premium</td>\n",
       "      <td>43390</td>\n",
       "      <td>1</td>\n",
       "      <td>1</td>\n",
       "      <td>5</td>\n",
       "      <td>Natural Chip        Compny SeaSalt175g</td>\n",
       "      <td>2</td>\n",
       "      <td>6.0</td>\n",
       "    </tr>\n",
       "    <tr>\n",
       "      <th>1</th>\n",
       "      <td>1002</td>\n",
       "      <td>YOUNG SINGLES/COUPLES</td>\n",
       "      <td>Mainstream</td>\n",
       "      <td>43359</td>\n",
       "      <td>1</td>\n",
       "      <td>2</td>\n",
       "      <td>58</td>\n",
       "      <td>Red Rock Deli Chikn&amp;Garlic Aioli 150g</td>\n",
       "      <td>1</td>\n",
       "      <td>2.7</td>\n",
       "    </tr>\n",
       "    <tr>\n",
       "      <th>2</th>\n",
       "      <td>1003</td>\n",
       "      <td>YOUNG FAMILIES</td>\n",
       "      <td>Budget</td>\n",
       "      <td>43531</td>\n",
       "      <td>1</td>\n",
       "      <td>3</td>\n",
       "      <td>52</td>\n",
       "      <td>Grain Waves Sour    Cream&amp;Chives 210G</td>\n",
       "      <td>1</td>\n",
       "      <td>3.6</td>\n",
       "    </tr>\n",
       "    <tr>\n",
       "      <th>3</th>\n",
       "      <td>1003</td>\n",
       "      <td>YOUNG FAMILIES</td>\n",
       "      <td>Budget</td>\n",
       "      <td>43532</td>\n",
       "      <td>1</td>\n",
       "      <td>4</td>\n",
       "      <td>106</td>\n",
       "      <td>Natural ChipCo      Hony Soy Chckn175g</td>\n",
       "      <td>1</td>\n",
       "      <td>3.0</td>\n",
       "    </tr>\n",
       "    <tr>\n",
       "      <th>4</th>\n",
       "      <td>1004</td>\n",
       "      <td>OLDER SINGLES/COUPLES</td>\n",
       "      <td>Mainstream</td>\n",
       "      <td>43406</td>\n",
       "      <td>1</td>\n",
       "      <td>5</td>\n",
       "      <td>96</td>\n",
       "      <td>WW Original Stacked Chips 160g</td>\n",
       "      <td>1</td>\n",
       "      <td>1.9</td>\n",
       "    </tr>\n",
       "  </tbody>\n",
       "</table>\n",
       "</div>"
      ],
      "text/plain": [
       "   LYLTY_CARD_NBR              LIFESTAGE PREMIUM_CUSTOMER   DATE  STORE_NBR  \\\n",
       "0            1000  YOUNG SINGLES/COUPLES          Premium  43390          1   \n",
       "1            1002  YOUNG SINGLES/COUPLES       Mainstream  43359          1   \n",
       "2            1003         YOUNG FAMILIES           Budget  43531          1   \n",
       "3            1003         YOUNG FAMILIES           Budget  43532          1   \n",
       "4            1004  OLDER SINGLES/COUPLES       Mainstream  43406          1   \n",
       "\n",
       "   TXN_ID  PROD_NBR                               PROD_NAME  PROD_QTY  \\\n",
       "0       1         5  Natural Chip        Compny SeaSalt175g         2   \n",
       "1       2        58   Red Rock Deli Chikn&Garlic Aioli 150g         1   \n",
       "2       3        52   Grain Waves Sour    Cream&Chives 210G         1   \n",
       "3       4       106  Natural ChipCo      Hony Soy Chckn175g         1   \n",
       "4       5        96          WW Original Stacked Chips 160g         1   \n",
       "\n",
       "   TOT_SALES  \n",
       "0        6.0  \n",
       "1        2.7  \n",
       "2        3.6  \n",
       "3        3.0  \n",
       "4        1.9  "
      ]
     },
     "execution_count": 23,
     "metadata": {},
     "output_type": "execute_result"
    }
   ],
   "source": [
    "merged_df.head()"
   ]
  },
  {
   "cell_type": "code",
   "execution_count": 13,
   "id": "12ea94b0-5b4b-4b4d-833b-2d397ce4796d",
   "metadata": {},
   "outputs": [
    {
     "data": {
      "text/plain": [
       "LYLTY_CARD_NBR       72637\n",
       "LIFESTAGE                7\n",
       "PREMIUM_CUSTOMER         3\n",
       "DATE                   364\n",
       "STORE_NBR              272\n",
       "TXN_ID              263127\n",
       "PROD_NBR               114\n",
       "PROD_NAME              114\n",
       "PROD_QTY                 6\n",
       "TOT_SALES              112\n",
       "dtype: int64"
      ]
     },
     "execution_count": 13,
     "metadata": {},
     "output_type": "execute_result"
    }
   ],
   "source": [
    "merged_df.nunique()"
   ]
  },
  {
   "cell_type": "code",
   "execution_count": 14,
   "id": "db51f027-c43d-4ea0-bd28-0a19ac2ff351",
   "metadata": {},
   "outputs": [
    {
     "name": "stdout",
     "output_type": "stream",
     "text": [
      "<class 'pandas.core.frame.DataFrame'>\n",
      "RangeIndex: 264836 entries, 0 to 264835\n",
      "Data columns (total 10 columns):\n",
      " #   Column            Non-Null Count   Dtype  \n",
      "---  ------            --------------   -----  \n",
      " 0   LYLTY_CARD_NBR    264836 non-null  int64  \n",
      " 1   LIFESTAGE         264836 non-null  object \n",
      " 2   PREMIUM_CUSTOMER  264836 non-null  object \n",
      " 3   DATE              264836 non-null  int64  \n",
      " 4   STORE_NBR         264836 non-null  int64  \n",
      " 5   TXN_ID            264836 non-null  int64  \n",
      " 6   PROD_NBR          264836 non-null  int64  \n",
      " 7   PROD_NAME         264836 non-null  object \n",
      " 8   PROD_QTY          264836 non-null  int64  \n",
      " 9   TOT_SALES         264836 non-null  float64\n",
      "dtypes: float64(1), int64(6), object(3)\n",
      "memory usage: 20.2+ MB\n"
     ]
    }
   ],
   "source": [
    "merged_df.info()"
   ]
  },
  {
   "cell_type": "code",
   "execution_count": 31,
   "id": "436ddbf7-a58f-41fd-bb5e-0987421de326",
   "metadata": {},
   "outputs": [
    {
     "data": {
      "text/plain": [
       "PREMIUM_CUSTOMER\n",
       "Mainstream    101988\n",
       "Budget         93157\n",
       "Premium        69691\n",
       "Name: count, dtype: int64"
      ]
     },
     "execution_count": 31,
     "metadata": {},
     "output_type": "execute_result"
    }
   ],
   "source": [
    "merged_df['PREMIUM_CUSTOMER'].value_counts()"
   ]
  },
  {
   "cell_type": "code",
   "execution_count": 34,
   "id": "ca3d5401-4dba-4ea6-b303-6e167493aa99",
   "metadata": {},
   "outputs": [
    {
     "data": {
      "text/plain": [
       "PREMIUM_CUSTOMER\n",
       "Budget        676211.55\n",
       "Mainstream    750744.50\n",
       "Premium       507458.95\n",
       "Name: TOT_SALES, dtype: float64"
      ]
     },
     "execution_count": 34,
     "metadata": {},
     "output_type": "execute_result"
    }
   ],
   "source": [
    "#groub by premium customer\n",
    "merged_df.groupby('PREMIUM_CUSTOMER')['TOT_SALES'].sum()"
   ]
  },
  {
   "cell_type": "code",
   "execution_count": 35,
   "id": "5637960d-6d12-40ee-b3aa-9908a1114a31",
   "metadata": {},
   "outputs": [
    {
     "data": {
      "text/plain": [
       "PREMIUM_CUSTOMER\n",
       "Budget        177898\n",
       "Mainstream    193965\n",
       "Premium       133261\n",
       "Name: PROD_QTY, dtype: int64"
      ]
     },
     "execution_count": 35,
     "metadata": {},
     "output_type": "execute_result"
    }
   ],
   "source": [
    "merged_df.groupby('PREMIUM_CUSTOMER')['PROD_QTY'].sum()"
   ]
  },
  {
   "cell_type": "code",
   "execution_count": 17,
   "id": "302f30af-58a7-41dd-a7dc-05ae3f15b6bd",
   "metadata": {},
   "outputs": [
    {
     "data": {
      "text/plain": [
       "DATE\n",
       "43282    1394\n",
       "43283    1367\n",
       "43284    1389\n",
       "43285    1373\n",
       "43286    1358\n",
       "         ... \n",
       "43642    1380\n",
       "43643    1352\n",
       "43644    1400\n",
       "43645    1438\n",
       "43646    1416\n",
       "Name: PROD_QTY, Length: 364, dtype: int64"
      ]
     },
     "execution_count": 17,
     "metadata": {},
     "output_type": "execute_result"
    }
   ],
   "source": [
    "merged_df.groupby('DATE')['PROD_QTY'].sum()"
   ]
  },
  {
   "cell_type": "code",
   "execution_count": 24,
   "id": "3c24fa42-c6b4-48db-901e-9350a1682d76",
   "metadata": {},
   "outputs": [
    {
     "name": "stderr",
     "output_type": "stream",
     "text": [
      "C:\\Users\\User\\AppData\\Local\\Temp\\ipykernel_9080\\409538414.py:1: FutureWarning: The 'unit' keyword in TimedeltaIndex construction is deprecated and will be removed in a future version. Use pd.to_timedelta instead.\n",
      "  merged_df['DATE']=pd.TimedeltaIndex(merged_df['DATE'],unit='d')+ dt.datetime(1899,12,30)\n"
     ]
    }
   ],
   "source": [
    "merged_df['DATE']=pd.TimedeltaIndex(merged_df['DATE'],unit='d')+ dt.datetime(1899,12,30)"
   ]
  },
  {
   "cell_type": "code",
   "execution_count": 25,
   "id": "699d4ea0-579e-417b-9824-22f252b9a573",
   "metadata": {},
   "outputs": [
    {
     "data": {
      "text/html": [
       "<div>\n",
       "<style scoped>\n",
       "    .dataframe tbody tr th:only-of-type {\n",
       "        vertical-align: middle;\n",
       "    }\n",
       "\n",
       "    .dataframe tbody tr th {\n",
       "        vertical-align: top;\n",
       "    }\n",
       "\n",
       "    .dataframe thead th {\n",
       "        text-align: right;\n",
       "    }\n",
       "</style>\n",
       "<table border=\"1\" class=\"dataframe\">\n",
       "  <thead>\n",
       "    <tr style=\"text-align: right;\">\n",
       "      <th></th>\n",
       "      <th>LYLTY_CARD_NBR</th>\n",
       "      <th>LIFESTAGE</th>\n",
       "      <th>PREMIUM_CUSTOMER</th>\n",
       "      <th>DATE</th>\n",
       "      <th>STORE_NBR</th>\n",
       "      <th>TXN_ID</th>\n",
       "      <th>PROD_NBR</th>\n",
       "      <th>PROD_NAME</th>\n",
       "      <th>PROD_QTY</th>\n",
       "      <th>TOT_SALES</th>\n",
       "    </tr>\n",
       "  </thead>\n",
       "  <tbody>\n",
       "    <tr>\n",
       "      <th>0</th>\n",
       "      <td>1000</td>\n",
       "      <td>YOUNG SINGLES/COUPLES</td>\n",
       "      <td>Premium</td>\n",
       "      <td>2018-10-17</td>\n",
       "      <td>1</td>\n",
       "      <td>1</td>\n",
       "      <td>5</td>\n",
       "      <td>Natural Chip        Compny SeaSalt175g</td>\n",
       "      <td>2</td>\n",
       "      <td>6.0</td>\n",
       "    </tr>\n",
       "    <tr>\n",
       "      <th>1</th>\n",
       "      <td>1002</td>\n",
       "      <td>YOUNG SINGLES/COUPLES</td>\n",
       "      <td>Mainstream</td>\n",
       "      <td>2018-09-16</td>\n",
       "      <td>1</td>\n",
       "      <td>2</td>\n",
       "      <td>58</td>\n",
       "      <td>Red Rock Deli Chikn&amp;Garlic Aioli 150g</td>\n",
       "      <td>1</td>\n",
       "      <td>2.7</td>\n",
       "    </tr>\n",
       "    <tr>\n",
       "      <th>2</th>\n",
       "      <td>1003</td>\n",
       "      <td>YOUNG FAMILIES</td>\n",
       "      <td>Budget</td>\n",
       "      <td>2019-03-07</td>\n",
       "      <td>1</td>\n",
       "      <td>3</td>\n",
       "      <td>52</td>\n",
       "      <td>Grain Waves Sour    Cream&amp;Chives 210G</td>\n",
       "      <td>1</td>\n",
       "      <td>3.6</td>\n",
       "    </tr>\n",
       "    <tr>\n",
       "      <th>3</th>\n",
       "      <td>1003</td>\n",
       "      <td>YOUNG FAMILIES</td>\n",
       "      <td>Budget</td>\n",
       "      <td>2019-03-08</td>\n",
       "      <td>1</td>\n",
       "      <td>4</td>\n",
       "      <td>106</td>\n",
       "      <td>Natural ChipCo      Hony Soy Chckn175g</td>\n",
       "      <td>1</td>\n",
       "      <td>3.0</td>\n",
       "    </tr>\n",
       "    <tr>\n",
       "      <th>4</th>\n",
       "      <td>1004</td>\n",
       "      <td>OLDER SINGLES/COUPLES</td>\n",
       "      <td>Mainstream</td>\n",
       "      <td>2018-11-02</td>\n",
       "      <td>1</td>\n",
       "      <td>5</td>\n",
       "      <td>96</td>\n",
       "      <td>WW Original Stacked Chips 160g</td>\n",
       "      <td>1</td>\n",
       "      <td>1.9</td>\n",
       "    </tr>\n",
       "  </tbody>\n",
       "</table>\n",
       "</div>"
      ],
      "text/plain": [
       "   LYLTY_CARD_NBR              LIFESTAGE PREMIUM_CUSTOMER       DATE  \\\n",
       "0            1000  YOUNG SINGLES/COUPLES          Premium 2018-10-17   \n",
       "1            1002  YOUNG SINGLES/COUPLES       Mainstream 2018-09-16   \n",
       "2            1003         YOUNG FAMILIES           Budget 2019-03-07   \n",
       "3            1003         YOUNG FAMILIES           Budget 2019-03-08   \n",
       "4            1004  OLDER SINGLES/COUPLES       Mainstream 2018-11-02   \n",
       "\n",
       "   STORE_NBR  TXN_ID  PROD_NBR                               PROD_NAME  \\\n",
       "0          1       1         5  Natural Chip        Compny SeaSalt175g   \n",
       "1          1       2        58   Red Rock Deli Chikn&Garlic Aioli 150g   \n",
       "2          1       3        52   Grain Waves Sour    Cream&Chives 210G   \n",
       "3          1       4       106  Natural ChipCo      Hony Soy Chckn175g   \n",
       "4          1       5        96          WW Original Stacked Chips 160g   \n",
       "\n",
       "   PROD_QTY  TOT_SALES  \n",
       "0         2        6.0  \n",
       "1         1        2.7  \n",
       "2         1        3.6  \n",
       "3         1        3.0  \n",
       "4         1        1.9  "
      ]
     },
     "execution_count": 25,
     "metadata": {},
     "output_type": "execute_result"
    }
   ],
   "source": [
    "merged_df.head()"
   ]
  },
  {
   "cell_type": "code",
   "execution_count": 26,
   "id": "bf495cfa-20c7-44a7-b7a0-81112cfe70ef",
   "metadata": {},
   "outputs": [],
   "source": [
    "#grouping by data, create new month column to show months\n",
    "merged_df['MONTH']=merged_df['DATE'].dt.month"
   ]
  },
  {
   "cell_type": "code",
   "execution_count": 27,
   "id": "34030850-f9f5-4614-be49-d8c0d7049178",
   "metadata": {},
   "outputs": [
    {
     "data": {
      "text/html": [
       "<div>\n",
       "<style scoped>\n",
       "    .dataframe tbody tr th:only-of-type {\n",
       "        vertical-align: middle;\n",
       "    }\n",
       "\n",
       "    .dataframe tbody tr th {\n",
       "        vertical-align: top;\n",
       "    }\n",
       "\n",
       "    .dataframe thead th {\n",
       "        text-align: right;\n",
       "    }\n",
       "</style>\n",
       "<table border=\"1\" class=\"dataframe\">\n",
       "  <thead>\n",
       "    <tr style=\"text-align: right;\">\n",
       "      <th></th>\n",
       "      <th>LYLTY_CARD_NBR</th>\n",
       "      <th>LIFESTAGE</th>\n",
       "      <th>PREMIUM_CUSTOMER</th>\n",
       "      <th>DATE</th>\n",
       "      <th>STORE_NBR</th>\n",
       "      <th>TXN_ID</th>\n",
       "      <th>PROD_NBR</th>\n",
       "      <th>PROD_NAME</th>\n",
       "      <th>PROD_QTY</th>\n",
       "      <th>TOT_SALES</th>\n",
       "      <th>MONTH</th>\n",
       "    </tr>\n",
       "  </thead>\n",
       "  <tbody>\n",
       "    <tr>\n",
       "      <th>0</th>\n",
       "      <td>1000</td>\n",
       "      <td>YOUNG SINGLES/COUPLES</td>\n",
       "      <td>Premium</td>\n",
       "      <td>2018-10-17</td>\n",
       "      <td>1</td>\n",
       "      <td>1</td>\n",
       "      <td>5</td>\n",
       "      <td>Natural Chip        Compny SeaSalt175g</td>\n",
       "      <td>2</td>\n",
       "      <td>6.0</td>\n",
       "      <td>10</td>\n",
       "    </tr>\n",
       "    <tr>\n",
       "      <th>1</th>\n",
       "      <td>1002</td>\n",
       "      <td>YOUNG SINGLES/COUPLES</td>\n",
       "      <td>Mainstream</td>\n",
       "      <td>2018-09-16</td>\n",
       "      <td>1</td>\n",
       "      <td>2</td>\n",
       "      <td>58</td>\n",
       "      <td>Red Rock Deli Chikn&amp;Garlic Aioli 150g</td>\n",
       "      <td>1</td>\n",
       "      <td>2.7</td>\n",
       "      <td>9</td>\n",
       "    </tr>\n",
       "    <tr>\n",
       "      <th>2</th>\n",
       "      <td>1003</td>\n",
       "      <td>YOUNG FAMILIES</td>\n",
       "      <td>Budget</td>\n",
       "      <td>2019-03-07</td>\n",
       "      <td>1</td>\n",
       "      <td>3</td>\n",
       "      <td>52</td>\n",
       "      <td>Grain Waves Sour    Cream&amp;Chives 210G</td>\n",
       "      <td>1</td>\n",
       "      <td>3.6</td>\n",
       "      <td>3</td>\n",
       "    </tr>\n",
       "  </tbody>\n",
       "</table>\n",
       "</div>"
      ],
      "text/plain": [
       "   LYLTY_CARD_NBR              LIFESTAGE PREMIUM_CUSTOMER       DATE  \\\n",
       "0            1000  YOUNG SINGLES/COUPLES          Premium 2018-10-17   \n",
       "1            1002  YOUNG SINGLES/COUPLES       Mainstream 2018-09-16   \n",
       "2            1003         YOUNG FAMILIES           Budget 2019-03-07   \n",
       "\n",
       "   STORE_NBR  TXN_ID  PROD_NBR                               PROD_NAME  \\\n",
       "0          1       1         5  Natural Chip        Compny SeaSalt175g   \n",
       "1          1       2        58   Red Rock Deli Chikn&Garlic Aioli 150g   \n",
       "2          1       3        52   Grain Waves Sour    Cream&Chives 210G   \n",
       "\n",
       "   PROD_QTY  TOT_SALES  MONTH  \n",
       "0         2        6.0     10  \n",
       "1         1        2.7      9  \n",
       "2         1        3.6      3  "
      ]
     },
     "execution_count": 27,
     "metadata": {},
     "output_type": "execute_result"
    }
   ],
   "source": [
    "merged_df.head(3)"
   ]
  },
  {
   "cell_type": "code",
   "execution_count": 28,
   "id": "5abcaf2d-55ba-402f-9d21-3026a9b5b6ee",
   "metadata": {},
   "outputs": [],
   "source": [
    "merged_df['MONTH_NAME']=merged_df['DATE'].dt.strftime('%B')"
   ]
  },
  {
   "cell_type": "code",
   "execution_count": 29,
   "id": "a2bcdb06-7bf2-4aad-9946-648762a3c23e",
   "metadata": {},
   "outputs": [
    {
     "data": {
      "text/html": [
       "<div>\n",
       "<style scoped>\n",
       "    .dataframe tbody tr th:only-of-type {\n",
       "        vertical-align: middle;\n",
       "    }\n",
       "\n",
       "    .dataframe tbody tr th {\n",
       "        vertical-align: top;\n",
       "    }\n",
       "\n",
       "    .dataframe thead th {\n",
       "        text-align: right;\n",
       "    }\n",
       "</style>\n",
       "<table border=\"1\" class=\"dataframe\">\n",
       "  <thead>\n",
       "    <tr style=\"text-align: right;\">\n",
       "      <th></th>\n",
       "      <th>LYLTY_CARD_NBR</th>\n",
       "      <th>LIFESTAGE</th>\n",
       "      <th>PREMIUM_CUSTOMER</th>\n",
       "      <th>DATE</th>\n",
       "      <th>STORE_NBR</th>\n",
       "      <th>TXN_ID</th>\n",
       "      <th>PROD_NBR</th>\n",
       "      <th>PROD_NAME</th>\n",
       "      <th>PROD_QTY</th>\n",
       "      <th>TOT_SALES</th>\n",
       "      <th>MONTH</th>\n",
       "      <th>MONTH_NAME</th>\n",
       "    </tr>\n",
       "  </thead>\n",
       "  <tbody>\n",
       "    <tr>\n",
       "      <th>0</th>\n",
       "      <td>1000</td>\n",
       "      <td>YOUNG SINGLES/COUPLES</td>\n",
       "      <td>Premium</td>\n",
       "      <td>2018-10-17</td>\n",
       "      <td>1</td>\n",
       "      <td>1</td>\n",
       "      <td>5</td>\n",
       "      <td>Natural Chip        Compny SeaSalt175g</td>\n",
       "      <td>2</td>\n",
       "      <td>6.0</td>\n",
       "      <td>10</td>\n",
       "      <td>October</td>\n",
       "    </tr>\n",
       "    <tr>\n",
       "      <th>1</th>\n",
       "      <td>1002</td>\n",
       "      <td>YOUNG SINGLES/COUPLES</td>\n",
       "      <td>Mainstream</td>\n",
       "      <td>2018-09-16</td>\n",
       "      <td>1</td>\n",
       "      <td>2</td>\n",
       "      <td>58</td>\n",
       "      <td>Red Rock Deli Chikn&amp;Garlic Aioli 150g</td>\n",
       "      <td>1</td>\n",
       "      <td>2.7</td>\n",
       "      <td>9</td>\n",
       "      <td>September</td>\n",
       "    </tr>\n",
       "  </tbody>\n",
       "</table>\n",
       "</div>"
      ],
      "text/plain": [
       "   LYLTY_CARD_NBR              LIFESTAGE PREMIUM_CUSTOMER       DATE  \\\n",
       "0            1000  YOUNG SINGLES/COUPLES          Premium 2018-10-17   \n",
       "1            1002  YOUNG SINGLES/COUPLES       Mainstream 2018-09-16   \n",
       "\n",
       "   STORE_NBR  TXN_ID  PROD_NBR                               PROD_NAME  \\\n",
       "0          1       1         5  Natural Chip        Compny SeaSalt175g   \n",
       "1          1       2        58   Red Rock Deli Chikn&Garlic Aioli 150g   \n",
       "\n",
       "   PROD_QTY  TOT_SALES  MONTH MONTH_NAME  \n",
       "0         2        6.0     10    October  \n",
       "1         1        2.7      9  September  "
      ]
     },
     "execution_count": 29,
     "metadata": {},
     "output_type": "execute_result"
    }
   ],
   "source": [
    "merged_df.head(2)"
   ]
  },
  {
   "cell_type": "code",
   "execution_count": 30,
   "id": "f0c46540-e3c4-48dd-b752-56a1d5ad6505",
   "metadata": {},
   "outputs": [],
   "source": [
    "#getting quarters of the year\n",
    "merged_df['YEARLY_QUARTER']=merged_df['DATE'].dt.quarter"
   ]
  },
  {
   "cell_type": "code",
   "execution_count": 31,
   "id": "a59c04ef-8e4e-4e36-a022-c656be120788",
   "metadata": {},
   "outputs": [
    {
     "data": {
      "text/html": [
       "<div>\n",
       "<style scoped>\n",
       "    .dataframe tbody tr th:only-of-type {\n",
       "        vertical-align: middle;\n",
       "    }\n",
       "\n",
       "    .dataframe tbody tr th {\n",
       "        vertical-align: top;\n",
       "    }\n",
       "\n",
       "    .dataframe thead th {\n",
       "        text-align: right;\n",
       "    }\n",
       "</style>\n",
       "<table border=\"1\" class=\"dataframe\">\n",
       "  <thead>\n",
       "    <tr style=\"text-align: right;\">\n",
       "      <th></th>\n",
       "      <th>LYLTY_CARD_NBR</th>\n",
       "      <th>LIFESTAGE</th>\n",
       "      <th>PREMIUM_CUSTOMER</th>\n",
       "      <th>DATE</th>\n",
       "      <th>STORE_NBR</th>\n",
       "      <th>TXN_ID</th>\n",
       "      <th>PROD_NBR</th>\n",
       "      <th>PROD_NAME</th>\n",
       "      <th>PROD_QTY</th>\n",
       "      <th>TOT_SALES</th>\n",
       "      <th>MONTH</th>\n",
       "      <th>MONTH_NAME</th>\n",
       "      <th>YEARLY_QUARTER</th>\n",
       "    </tr>\n",
       "  </thead>\n",
       "  <tbody>\n",
       "    <tr>\n",
       "      <th>0</th>\n",
       "      <td>1000</td>\n",
       "      <td>YOUNG SINGLES/COUPLES</td>\n",
       "      <td>Premium</td>\n",
       "      <td>2018-10-17</td>\n",
       "      <td>1</td>\n",
       "      <td>1</td>\n",
       "      <td>5</td>\n",
       "      <td>Natural Chip        Compny SeaSalt175g</td>\n",
       "      <td>2</td>\n",
       "      <td>6.0</td>\n",
       "      <td>10</td>\n",
       "      <td>October</td>\n",
       "      <td>4</td>\n",
       "    </tr>\n",
       "    <tr>\n",
       "      <th>1</th>\n",
       "      <td>1002</td>\n",
       "      <td>YOUNG SINGLES/COUPLES</td>\n",
       "      <td>Mainstream</td>\n",
       "      <td>2018-09-16</td>\n",
       "      <td>1</td>\n",
       "      <td>2</td>\n",
       "      <td>58</td>\n",
       "      <td>Red Rock Deli Chikn&amp;Garlic Aioli 150g</td>\n",
       "      <td>1</td>\n",
       "      <td>2.7</td>\n",
       "      <td>9</td>\n",
       "      <td>September</td>\n",
       "      <td>3</td>\n",
       "    </tr>\n",
       "    <tr>\n",
       "      <th>2</th>\n",
       "      <td>1003</td>\n",
       "      <td>YOUNG FAMILIES</td>\n",
       "      <td>Budget</td>\n",
       "      <td>2019-03-07</td>\n",
       "      <td>1</td>\n",
       "      <td>3</td>\n",
       "      <td>52</td>\n",
       "      <td>Grain Waves Sour    Cream&amp;Chives 210G</td>\n",
       "      <td>1</td>\n",
       "      <td>3.6</td>\n",
       "      <td>3</td>\n",
       "      <td>March</td>\n",
       "      <td>1</td>\n",
       "    </tr>\n",
       "    <tr>\n",
       "      <th>3</th>\n",
       "      <td>1003</td>\n",
       "      <td>YOUNG FAMILIES</td>\n",
       "      <td>Budget</td>\n",
       "      <td>2019-03-08</td>\n",
       "      <td>1</td>\n",
       "      <td>4</td>\n",
       "      <td>106</td>\n",
       "      <td>Natural ChipCo      Hony Soy Chckn175g</td>\n",
       "      <td>1</td>\n",
       "      <td>3.0</td>\n",
       "      <td>3</td>\n",
       "      <td>March</td>\n",
       "      <td>1</td>\n",
       "    </tr>\n",
       "    <tr>\n",
       "      <th>4</th>\n",
       "      <td>1004</td>\n",
       "      <td>OLDER SINGLES/COUPLES</td>\n",
       "      <td>Mainstream</td>\n",
       "      <td>2018-11-02</td>\n",
       "      <td>1</td>\n",
       "      <td>5</td>\n",
       "      <td>96</td>\n",
       "      <td>WW Original Stacked Chips 160g</td>\n",
       "      <td>1</td>\n",
       "      <td>1.9</td>\n",
       "      <td>11</td>\n",
       "      <td>November</td>\n",
       "      <td>4</td>\n",
       "    </tr>\n",
       "  </tbody>\n",
       "</table>\n",
       "</div>"
      ],
      "text/plain": [
       "   LYLTY_CARD_NBR              LIFESTAGE PREMIUM_CUSTOMER       DATE  \\\n",
       "0            1000  YOUNG SINGLES/COUPLES          Premium 2018-10-17   \n",
       "1            1002  YOUNG SINGLES/COUPLES       Mainstream 2018-09-16   \n",
       "2            1003         YOUNG FAMILIES           Budget 2019-03-07   \n",
       "3            1003         YOUNG FAMILIES           Budget 2019-03-08   \n",
       "4            1004  OLDER SINGLES/COUPLES       Mainstream 2018-11-02   \n",
       "\n",
       "   STORE_NBR  TXN_ID  PROD_NBR                               PROD_NAME  \\\n",
       "0          1       1         5  Natural Chip        Compny SeaSalt175g   \n",
       "1          1       2        58   Red Rock Deli Chikn&Garlic Aioli 150g   \n",
       "2          1       3        52   Grain Waves Sour    Cream&Chives 210G   \n",
       "3          1       4       106  Natural ChipCo      Hony Soy Chckn175g   \n",
       "4          1       5        96          WW Original Stacked Chips 160g   \n",
       "\n",
       "   PROD_QTY  TOT_SALES  MONTH MONTH_NAME  YEARLY_QUARTER  \n",
       "0         2        6.0     10    October               4  \n",
       "1         1        2.7      9  September               3  \n",
       "2         1        3.6      3      March               1  \n",
       "3         1        3.0      3      March               1  \n",
       "4         1        1.9     11   November               4  "
      ]
     },
     "execution_count": 31,
     "metadata": {},
     "output_type": "execute_result"
    }
   ],
   "source": [
    "merged_df.head()"
   ]
  },
  {
   "cell_type": "code",
   "execution_count": 32,
   "id": "65585859-5eb6-4665-b38a-c7e88e60f666",
   "metadata": {},
   "outputs": [],
   "source": [
    "merged_df['YEAR']=merged_df['DATE'].dt.year"
   ]
  },
  {
   "cell_type": "code",
   "execution_count": 33,
   "id": "abfda09c-0287-46da-8aec-ca2de332bcd0",
   "metadata": {},
   "outputs": [
    {
     "data": {
      "text/html": [
       "<div>\n",
       "<style scoped>\n",
       "    .dataframe tbody tr th:only-of-type {\n",
       "        vertical-align: middle;\n",
       "    }\n",
       "\n",
       "    .dataframe tbody tr th {\n",
       "        vertical-align: top;\n",
       "    }\n",
       "\n",
       "    .dataframe thead th {\n",
       "        text-align: right;\n",
       "    }\n",
       "</style>\n",
       "<table border=\"1\" class=\"dataframe\">\n",
       "  <thead>\n",
       "    <tr style=\"text-align: right;\">\n",
       "      <th></th>\n",
       "      <th>LYLTY_CARD_NBR</th>\n",
       "      <th>LIFESTAGE</th>\n",
       "      <th>PREMIUM_CUSTOMER</th>\n",
       "      <th>DATE</th>\n",
       "      <th>STORE_NBR</th>\n",
       "      <th>TXN_ID</th>\n",
       "      <th>PROD_NBR</th>\n",
       "      <th>PROD_NAME</th>\n",
       "      <th>PROD_QTY</th>\n",
       "      <th>TOT_SALES</th>\n",
       "      <th>MONTH</th>\n",
       "      <th>MONTH_NAME</th>\n",
       "      <th>YEARLY_QUARTER</th>\n",
       "      <th>YEAR</th>\n",
       "    </tr>\n",
       "  </thead>\n",
       "  <tbody>\n",
       "    <tr>\n",
       "      <th>0</th>\n",
       "      <td>1000</td>\n",
       "      <td>YOUNG SINGLES/COUPLES</td>\n",
       "      <td>Premium</td>\n",
       "      <td>2018-10-17</td>\n",
       "      <td>1</td>\n",
       "      <td>1</td>\n",
       "      <td>5</td>\n",
       "      <td>Natural Chip        Compny SeaSalt175g</td>\n",
       "      <td>2</td>\n",
       "      <td>6.0</td>\n",
       "      <td>10</td>\n",
       "      <td>October</td>\n",
       "      <td>4</td>\n",
       "      <td>2018</td>\n",
       "    </tr>\n",
       "    <tr>\n",
       "      <th>1</th>\n",
       "      <td>1002</td>\n",
       "      <td>YOUNG SINGLES/COUPLES</td>\n",
       "      <td>Mainstream</td>\n",
       "      <td>2018-09-16</td>\n",
       "      <td>1</td>\n",
       "      <td>2</td>\n",
       "      <td>58</td>\n",
       "      <td>Red Rock Deli Chikn&amp;Garlic Aioli 150g</td>\n",
       "      <td>1</td>\n",
       "      <td>2.7</td>\n",
       "      <td>9</td>\n",
       "      <td>September</td>\n",
       "      <td>3</td>\n",
       "      <td>2018</td>\n",
       "    </tr>\n",
       "    <tr>\n",
       "      <th>2</th>\n",
       "      <td>1003</td>\n",
       "      <td>YOUNG FAMILIES</td>\n",
       "      <td>Budget</td>\n",
       "      <td>2019-03-07</td>\n",
       "      <td>1</td>\n",
       "      <td>3</td>\n",
       "      <td>52</td>\n",
       "      <td>Grain Waves Sour    Cream&amp;Chives 210G</td>\n",
       "      <td>1</td>\n",
       "      <td>3.6</td>\n",
       "      <td>3</td>\n",
       "      <td>March</td>\n",
       "      <td>1</td>\n",
       "      <td>2019</td>\n",
       "    </tr>\n",
       "    <tr>\n",
       "      <th>3</th>\n",
       "      <td>1003</td>\n",
       "      <td>YOUNG FAMILIES</td>\n",
       "      <td>Budget</td>\n",
       "      <td>2019-03-08</td>\n",
       "      <td>1</td>\n",
       "      <td>4</td>\n",
       "      <td>106</td>\n",
       "      <td>Natural ChipCo      Hony Soy Chckn175g</td>\n",
       "      <td>1</td>\n",
       "      <td>3.0</td>\n",
       "      <td>3</td>\n",
       "      <td>March</td>\n",
       "      <td>1</td>\n",
       "      <td>2019</td>\n",
       "    </tr>\n",
       "    <tr>\n",
       "      <th>4</th>\n",
       "      <td>1004</td>\n",
       "      <td>OLDER SINGLES/COUPLES</td>\n",
       "      <td>Mainstream</td>\n",
       "      <td>2018-11-02</td>\n",
       "      <td>1</td>\n",
       "      <td>5</td>\n",
       "      <td>96</td>\n",
       "      <td>WW Original Stacked Chips 160g</td>\n",
       "      <td>1</td>\n",
       "      <td>1.9</td>\n",
       "      <td>11</td>\n",
       "      <td>November</td>\n",
       "      <td>4</td>\n",
       "      <td>2018</td>\n",
       "    </tr>\n",
       "  </tbody>\n",
       "</table>\n",
       "</div>"
      ],
      "text/plain": [
       "   LYLTY_CARD_NBR              LIFESTAGE PREMIUM_CUSTOMER       DATE  \\\n",
       "0            1000  YOUNG SINGLES/COUPLES          Premium 2018-10-17   \n",
       "1            1002  YOUNG SINGLES/COUPLES       Mainstream 2018-09-16   \n",
       "2            1003         YOUNG FAMILIES           Budget 2019-03-07   \n",
       "3            1003         YOUNG FAMILIES           Budget 2019-03-08   \n",
       "4            1004  OLDER SINGLES/COUPLES       Mainstream 2018-11-02   \n",
       "\n",
       "   STORE_NBR  TXN_ID  PROD_NBR                               PROD_NAME  \\\n",
       "0          1       1         5  Natural Chip        Compny SeaSalt175g   \n",
       "1          1       2        58   Red Rock Deli Chikn&Garlic Aioli 150g   \n",
       "2          1       3        52   Grain Waves Sour    Cream&Chives 210G   \n",
       "3          1       4       106  Natural ChipCo      Hony Soy Chckn175g   \n",
       "4          1       5        96          WW Original Stacked Chips 160g   \n",
       "\n",
       "   PROD_QTY  TOT_SALES  MONTH MONTH_NAME  YEARLY_QUARTER  YEAR  \n",
       "0         2        6.0     10    October               4  2018  \n",
       "1         1        2.7      9  September               3  2018  \n",
       "2         1        3.6      3      March               1  2019  \n",
       "3         1        3.0      3      March               1  2019  \n",
       "4         1        1.9     11   November               4  2018  "
      ]
     },
     "execution_count": 33,
     "metadata": {},
     "output_type": "execute_result"
    }
   ],
   "source": [
    "merged_df.head()"
   ]
  },
  {
   "cell_type": "code",
   "execution_count": 40,
   "id": "007551b3-4ea7-4755-9c14-66007847ecef",
   "metadata": {},
   "outputs": [
    {
     "data": {
      "text/plain": [
       "MONTH_NAME\n",
       "April        159845.10\n",
       "August       158731.05\n",
       "December     167913.40\n",
       "February     150665.00\n",
       "January      162642.30\n",
       "July         165275.30\n",
       "June         160538.60\n",
       "March        166265.20\n",
       "May          157367.65\n",
       "November     160233.70\n",
       "October      164415.70\n",
       "September    160522.00\n",
       "Name: TOT_SALES, dtype: float64"
      ]
     },
     "execution_count": 40,
     "metadata": {},
     "output_type": "execute_result"
    }
   ],
   "source": [
    "merged_df.groupby('MONTH_NAME')['TOT_SALES'].sum()"
   ]
  },
  {
   "cell_type": "code",
   "execution_count": 41,
   "id": "d4ae31f9-9fff-424e-a38d-3a5e80cb75b0",
   "metadata": {},
   "outputs": [
    {
     "data": {
      "text/plain": [
       "YEARLY_QUARTER\n",
       "1    479572.50\n",
       "2    477751.35\n",
       "3    484528.35\n",
       "4    492562.80\n",
       "Name: TOT_SALES, dtype: float64"
      ]
     },
     "execution_count": 41,
     "metadata": {},
     "output_type": "execute_result"
    }
   ],
   "source": [
    "merged_df.groupby('YEARLY_QUARTER')['TOT_SALES'].sum()"
   ]
  },
  {
   "cell_type": "code",
   "execution_count": 47,
   "id": "403c3af1-b7a5-4e23-a534-7db3582d9745",
   "metadata": {},
   "outputs": [
    {
     "data": {
      "text/plain": [
       "MONTH_NAME\n",
       "April        21766\n",
       "August       22411\n",
       "December     22835\n",
       "February     20405\n",
       "January      22161\n",
       "July         22562\n",
       "June         21829\n",
       "March        22592\n",
       "May          22392\n",
       "November     21852\n",
       "October      22288\n",
       "September    21743\n",
       "Name: TXN_ID, dtype: int64"
      ]
     },
     "execution_count": 47,
     "metadata": {},
     "output_type": "execute_result"
    }
   ],
   "source": [
    "merged_df.groupby('MONTH_NAME')['TXN_ID'].count()"
   ]
  },
  {
   "cell_type": "code",
   "execution_count": 57,
   "id": "0fcff290-c480-410e-a05f-7bd6f2a8010a",
   "metadata": {},
   "outputs": [
    {
     "data": {
      "text/plain": [
       "<Axes: xlabel='DATE'>"
      ]
     },
     "execution_count": 57,
     "metadata": {},
     "output_type": "execute_result"
    },
    {
     "data": {
      "image/png": "[encoded data removed]",
      "text/plain": [
       "<Figure size 640x480 with 1 Axes>"
      ]
     },
     "metadata": {},
     "output_type": "display_data"
    }
   ],
   "source": [
    "merged_df.groupby('DATE')['TXN_ID'].count().plot()"
   ]
  },
  {
   "cell_type": "code",
   "execution_count": 50,
   "id": "321270ab-b748-4186-8c69-4e76c9afc3d9",
   "metadata": {},
   "outputs": [
    {
     "data": {
      "text/plain": [
       "DATE        TXN_ID\n",
       "2018-07-01  48884     2\n",
       "            133312    2\n",
       "            154455    2\n",
       "            201500    2\n",
       "            266       1\n",
       "                     ..\n",
       "2019-06-30  268918    1\n",
       "            269155    1\n",
       "            269422    1\n",
       "            269737    1\n",
       "            269769    1\n",
       "Name: count, Length: 263131, dtype: int64"
      ]
     },
     "execution_count": 50,
     "metadata": {},
     "output_type": "execute_result"
    }
   ],
   "source": [
    "merged_df.groupby('DATE')['TXN_ID'].value_counts()"
   ]
  },
  {
   "cell_type": "code",
   "execution_count": 58,
   "id": "8d90c0f9-7c45-406c-97a7-7a272b609b38",
   "metadata": {},
   "outputs": [
    {
     "data": {
      "text/plain": [
       "<Axes: xlabel='DATE'>"
      ]
     },
     "execution_count": 58,
     "metadata": {},
     "output_type": "execute_result"
    },
    {
     "data": {
      "image/png": "[encoded data removed]",
      "text/plain": [
       "<Figure size 640x480 with 1 Axes>"
      ]
     },
     "metadata": {},
     "output_type": "display_data"
    }
   ],
   "source": [
    "merged_df.groupby('DATE')['TOT_SALES'].sum().plot()"
   ]
  },
  {
   "cell_type": "code",
   "execution_count": 66,
   "id": "ca74d2d6-2ced-4b15-9dde-dee907ac3ab1",
   "metadata": {},
   "outputs": [],
   "source": [
    "merged_df['BRAND']=merged_df['PROD_NAME'].str.split(expand=True)[0]"
   ]
  },
  {
   "cell_type": "code",
   "execution_count": 67,
   "id": "5d41a45c-2aa5-4962-ad3e-86a762351e2a",
   "metadata": {},
   "outputs": [
    {
     "data": {
      "text/plain": [
       "0          Natural\n",
       "1              Red\n",
       "2            Grain\n",
       "3          Natural\n",
       "4               WW\n",
       "            ...   \n",
       "264831       Grain\n",
       "264832      Kettle\n",
       "264833    Tyrrells\n",
       "264834         Old\n",
       "264835      Smiths\n",
       "Name: BRAND, Length: 264836, dtype: object"
      ]
     },
     "execution_count": 67,
     "metadata": {},
     "output_type": "execute_result"
    }
   ],
   "source": [
    "merged_df['BRAND']"
   ]
  },
  {
   "cell_type": "code",
   "execution_count": 84,
   "id": "40fc3e9d-4258-40cf-be77-80e3e6d99f47",
   "metadata": {},
   "outputs": [
    {
     "data": {
      "text/plain": [
       "<Axes: xlabel='BRAND'>"
      ]
     },
     "execution_count": 84,
     "metadata": {},
     "output_type": "execute_result"
    },
    {
     "data": {
      "image/png": "[encoded data removed]",
      "text/plain": [
       "<Figure size 640x480 with 1 Axes>"
      ]
     },
     "metadata": {},
     "output_type": "display_data"
    }
   ],
   "source": [
    "merged_df.groupby('BRAND')['TOT_SALES'].sum().sort_values(ascending=False).head(10).plot(kind='bar', orientation='vertical')"
   ]
  },
  {
   "cell_type": "code",
   "execution_count": 79,
   "id": "3243856c-5c56-49dc-984f-cc0f474b8919",
   "metadata": {},
   "outputs": [
    {
     "data": {
      "text/plain": [
       "BRAND\n",
       "Kettle        79051\n",
       "Smiths        54730\n",
       "Pringles      48019\n",
       "Doritos       47707\n",
       "Thins         26929\n",
       "RRD           22500\n",
       "Infuzions     21119\n",
       "WW            19461\n",
       "Cobs          18571\n",
       "Tostitos      18134\n",
       "Twisties      18118\n",
       "Old           17805\n",
       "Tyrrells      12298\n",
       "Grain         11962\n",
       "Natural       11424\n",
       "Red           11146\n",
       "Cheezels       8747\n",
       "CCs            8609\n",
       "Woolworths     8395\n",
       "Dorito         6509\n",
       "Infzns         6000\n",
       "Smith          5609\n",
       "Cheetos        5530\n",
       "Snbts          2986\n",
       "Burger         2970\n",
       "GrnWves        2764\n",
       "Sunbites       2706\n",
       "NCC            2682\n",
       "French         2643\n",
       "Name: PROD_QTY, dtype: int64"
      ]
     },
     "execution_count": 79,
     "metadata": {},
     "output_type": "execute_result"
    }
   ],
   "source": [
    "merged_df.groupby('BRAND')['PROD_QTY'].sum().sort_values(ascending=False)"
   ]
  },
  {
   "cell_type": "code",
   "execution_count": 75,
   "id": "a65c124f-d181-468f-aa13-bf6db7a3df33",
   "metadata": {},
   "outputs": [
    {
     "data": {
      "text/plain": [
       "29"
      ]
     },
     "execution_count": 75,
     "metadata": {},
     "output_type": "execute_result"
    }
   ],
   "source": [
    "merged_df['BRAND'].nunique()"
   ]
  },
  {
   "cell_type": "code",
   "execution_count": 88,
   "id": "822685ad-9714-4711-9a3b-71a9d4022ac2",
   "metadata": {},
   "outputs": [
    {
     "name": "stdout",
     "output_type": "stream",
     "text": [
      "<class 'pandas.core.frame.DataFrame'>\n",
      "RangeIndex: 264836 entries, 0 to 264835\n",
      "Data columns (total 15 columns):\n",
      " #   Column            Non-Null Count   Dtype         \n",
      "---  ------            --------------   -----         \n",
      " 0   LYLTY_CARD_NBR    264836 non-null  int64         \n",
      " 1   LIFESTAGE         264836 non-null  object        \n",
      " 2   PREMIUM_CUSTOMER  264836 non-null  object        \n",
      " 3   DATE              264836 non-null  datetime64[ns]\n",
      " 4   STORE_NBR         264836 non-null  int64         \n",
      " 5   TXN_ID            264836 non-null  int64         \n",
      " 6   PROD_NBR          264836 non-null  int64         \n",
      " 7   PROD_NAME         264836 non-null  object        \n",
      " 8   PROD_QTY          264836 non-null  int64         \n",
      " 9   TOT_SALES         264836 non-null  float64       \n",
      " 10  MONTH             264836 non-null  int32         \n",
      " 11  MONTH_NAME        264836 non-null  object        \n",
      " 12  YEARLY_QUARTER    264836 non-null  int32         \n",
      " 13  YEAR              264836 non-null  int32         \n",
      " 14  BRAND             264836 non-null  object        \n",
      "dtypes: datetime64[ns](1), float64(1), int32(3), int64(5), object(5)\n",
      "memory usage: 27.3+ MB\n"
     ]
    }
   ],
   "source": [
    "merged_df.info()"
   ]
  },
  {
   "cell_type": "code",
   "execution_count": 92,
   "id": "91bd4e74-e802-44f7-954a-2880eeb1e9f9",
   "metadata": {},
   "outputs": [
    {
     "data": {
      "text/plain": [
       "<Axes: xlabel='PREMIUM_CUSTOMER,LIFESTAGE'>"
      ]
     },
     "execution_count": 92,
     "metadata": {},
     "output_type": "execute_result"
    },
    {
     "data": {
      "image/png": "[encoded data removed]",
      "text/plain": [
       "<Figure size 640x480 with 1 Axes>"
      ]
     },
     "metadata": {},
     "output_type": "display_data"
    }
   ],
   "source": [
    "merged_df.groupby(['PREMIUM_CUSTOMER','LIFESTAGE'])['TOT_SALES'].sum().plot(kind='bar')"
   ]
  },
  {
   "cell_type": "code",
   "execution_count": 91,
   "id": "8cdc17c4-b257-4d82-a5a8-5121cd88172a",
   "metadata": {},
   "outputs": [
    {
     "data": {
      "text/plain": [
       "LIFESTAGE               PREMIUM_CUSTOMER\n",
       "MIDAGE SINGLES/COUPLES  Budget               35514.80\n",
       "                        Mainstream           90803.85\n",
       "                        Premium              58432.65\n",
       "NEW FAMILIES            Budget               21928.45\n",
       "                        Mainstream           17013.90\n",
       "                        Premium              11491.10\n",
       "OLDER FAMILIES          Budget              168363.25\n",
       "                        Mainstream          103445.55\n",
       "                        Premium              81958.40\n",
       "OLDER SINGLES/COUPLES   Budget              136769.80\n",
       "                        Mainstream          133393.80\n",
       "                        Premium             132263.15\n",
       "RETIREES                Budget              113147.80\n",
       "                        Mainstream          155677.05\n",
       "                        Premium              97646.05\n",
       "YOUNG FAMILIES          Budget              139345.85\n",
       "                        Mainstream           92788.75\n",
       "                        Premium              84025.50\n",
       "YOUNG SINGLES/COUPLES   Budget               61141.60\n",
       "                        Mainstream          157621.60\n",
       "                        Premium              41642.10\n",
       "Name: TOT_SALES, dtype: float64"
      ]
     },
     "execution_count": 91,
     "metadata": {},
     "output_type": "execute_result"
    }
   ],
   "source": [
    "merged_df.groupby(['LIFESTAGE','PREMIUM_CUSTOMER'])['TOT_SALES'].sum()"
   ]
  },
  {
   "cell_type": "code",
   "execution_count": 97,
   "id": "a1367a45-ae39-4307-8c65-55ea732f1136",
   "metadata": {},
   "outputs": [
    {
     "data": {
      "text/plain": [
       "<Axes: xlabel='LIFESTAGE'>"
      ]
     },
     "execution_count": 97,
     "metadata": {},
     "output_type": "execute_result"
    },
    {
     "data": {
      "image/png": "[encoded data removed]",
      "text/plain": [
       "<Figure size 640x480 with 1 Axes>"
      ]
     },
     "metadata": {},
     "output_type": "display_data"
    }
   ],
   "source": [
    "merged_df.pivot_table(values='TXN_ID', index='LIFESTAGE', columns='PREMIUM_CUSTOMER', aggfunc='count').plot(kind='bar')"
   ]
  },
  {
   "cell_type": "code",
   "execution_count": null,
   "id": "48c20c3d-0cb7-40e5-b05f-4372c70f6d9b",
   "metadata": {},
   "outputs": [],
   "source": []
  }
 ],
 "metadata": {
  "kernelspec": {
   "display_name": "Python 3 (ipykernel)",
   "language": "python",
   "name": "python3"
  },
  "language_info": {
   "codemirror_mode": {
    "name": "ipython",
    "version": 3
   },
   "file_extension": ".py",
   "mimetype": "text/x-python",
   "name": "python",
   "nbconvert_exporter": "python",
   "pygments_lexer": "ipython3",
   "version": "3.11.4"
  }
 },
 "nbformat": 4,
 "nbformat_minor": 5
}
