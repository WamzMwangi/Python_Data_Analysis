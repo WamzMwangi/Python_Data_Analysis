{
 "cells": [
  {
   "cell_type": "markdown",
   "id": "e97c5a22-f4b7-42d1-ac7d-2b867b485df2",
   "metadata": {},
   "source": [
    "### Import all necessary libraries"
   ]
  },
  {
   "cell_type": "code",
   "execution_count": 1,
   "id": "02e5e3e1-eb41-477c-bce9-83823256c9e3",
   "metadata": {},
   "outputs": [
    {
     "name": "stderr",
     "output_type": "stream",
     "text": [
      "C:\\Users\\User\\AppData\\Local\\Temp\\ipykernel_10192\\555797462.py:1: DeprecationWarning: \n",
      "Pyarrow will become a required dependency of pandas in the next major release of pandas (pandas 3.0),\n",
      "(to allow more performant data types, such as the Arrow string type, and better interoperability with other libraries)\n",
      "but was not found to be installed on your system.\n",
      "If this would cause problems for you,\n",
      "please provide us feedback at https://github.com/pandas-dev/pandas/issues/54466\n",
      "        \n",
      "  import pandas as pd\n"
     ]
    }
   ],
   "source": [
    "import pandas as pd\n",
    "import numpy as np\n",
    "import matplotlib.pyplot as plt\n",
    "import seaborn as sns"
   ]
  },
  {
   "cell_type": "markdown",
   "id": "47dd8753-f550-4fda-8bc1-2e623c60ab86",
   "metadata": {},
   "source": [
    "### Importing the dataset"
   ]
  },
  {
   "cell_type": "code",
   "execution_count": 2,
   "id": "7665e899-2cd9-4891-9b89-54692af687ef",
   "metadata": {},
   "outputs": [],
   "source": [
    "url=('https://raw.githubusercontent.com/rfordatascience/tidytuesday/master/data/2020/2020-02-18/food_consumption.csv')\n",
    "data=pd.read_csv(url)\n"
   ]
  },
  {
   "cell_type": "code",
   "execution_count": 3,
   "id": "6184cf2a-5eed-499f-a82d-2f161af812d2",
   "metadata": {},
   "outputs": [
    {
     "data": {
      "text/html": [
       "<div>\n",
       "<style scoped>\n",
       "    .dataframe tbody tr th:only-of-type {\n",
       "        vertical-align: middle;\n",
       "    }\n",
       "\n",
       "    .dataframe tbody tr th {\n",
       "        vertical-align: top;\n",
       "    }\n",
       "\n",
       "    .dataframe thead th {\n",
       "        text-align: right;\n",
       "    }\n",
       "</style>\n",
       "<table border=\"1\" class=\"dataframe\">\n",
       "  <thead>\n",
       "    <tr style=\"text-align: right;\">\n",
       "      <th></th>\n",
       "      <th>country</th>\n",
       "      <th>food_category</th>\n",
       "      <th>consumption</th>\n",
       "      <th>co2_emmission</th>\n",
       "    </tr>\n",
       "  </thead>\n",
       "  <tbody>\n",
       "    <tr>\n",
       "      <th>0</th>\n",
       "      <td>Argentina</td>\n",
       "      <td>Pork</td>\n",
       "      <td>10.51</td>\n",
       "      <td>37.20</td>\n",
       "    </tr>\n",
       "    <tr>\n",
       "      <th>1</th>\n",
       "      <td>Argentina</td>\n",
       "      <td>Poultry</td>\n",
       "      <td>38.66</td>\n",
       "      <td>41.53</td>\n",
       "    </tr>\n",
       "    <tr>\n",
       "      <th>2</th>\n",
       "      <td>Argentina</td>\n",
       "      <td>Beef</td>\n",
       "      <td>55.48</td>\n",
       "      <td>1712.00</td>\n",
       "    </tr>\n",
       "    <tr>\n",
       "      <th>3</th>\n",
       "      <td>Argentina</td>\n",
       "      <td>Lamb &amp; Goat</td>\n",
       "      <td>1.56</td>\n",
       "      <td>54.63</td>\n",
       "    </tr>\n",
       "    <tr>\n",
       "      <th>4</th>\n",
       "      <td>Argentina</td>\n",
       "      <td>Fish</td>\n",
       "      <td>4.36</td>\n",
       "      <td>6.96</td>\n",
       "    </tr>\n",
       "  </tbody>\n",
       "</table>\n",
       "</div>"
      ],
      "text/plain": [
       "     country food_category  consumption  co2_emmission\n",
       "0  Argentina          Pork        10.51          37.20\n",
       "1  Argentina       Poultry        38.66          41.53\n",
       "2  Argentina          Beef        55.48        1712.00\n",
       "3  Argentina   Lamb & Goat         1.56          54.63\n",
       "4  Argentina          Fish         4.36           6.96"
      ]
     },
     "execution_count": 3,
     "metadata": {},
     "output_type": "execute_result"
    }
   ],
   "source": [
    "data.head()"
   ]
  },
  {
   "cell_type": "code",
   "execution_count": 4,
   "id": "b78bd0bb-0df7-476f-840f-049f78162b32",
   "metadata": {},
   "outputs": [
    {
     "name": "stdout",
     "output_type": "stream",
     "text": [
      "<class 'pandas.core.frame.DataFrame'>\n",
      "RangeIndex: 1430 entries, 0 to 1429\n",
      "Data columns (total 4 columns):\n",
      " #   Column         Non-Null Count  Dtype  \n",
      "---  ------         --------------  -----  \n",
      " 0   country        1430 non-null   object \n",
      " 1   food_category  1430 non-null   object \n",
      " 2   consumption    1430 non-null   float64\n",
      " 3   co2_emmission  1430 non-null   float64\n",
      "dtypes: float64(2), object(2)\n",
      "memory usage: 44.8+ KB\n"
     ]
    }
   ],
   "source": [
    "data.info()\n",
    "#this shows that the data has no missing values!"
   ]
  },
  {
   "cell_type": "code",
   "execution_count": 5,
   "id": "14eaad50-6899-466b-8e9a-05c63e7be9d7",
   "metadata": {},
   "outputs": [
    {
     "data": {
      "text/plain": [
       "(1430, 4)"
      ]
     },
     "execution_count": 5,
     "metadata": {},
     "output_type": "execute_result"
    }
   ],
   "source": [
    "data.shape"
   ]
  },
  {
   "cell_type": "markdown",
   "id": "dbbb2c53-aa64-40f9-99f3-861babb8d546",
   "metadata": {},
   "source": [
    "### Q1: The average C02 emission per person by food category among five countries (Kenya, Uganda, Tanzania, Rwanda and Ethiopia) located in East Africa."
   ]
  },
  {
   "cell_type": "code",
   "execution_count": 6,
   "id": "865d9625-0b05-45de-8695-df74f3964f4e",
   "metadata": {},
   "outputs": [],
   "source": [
    "#filter the data set to have only the 5 countries\n",
    "EA_countries=['Kenya','Uganda', 'Tanzania', 'Rwanda', 'Ethiopia']\n"
   ]
  },
  {
   "cell_type": "code",
   "execution_count": 7,
   "id": "d3d8c0b8-5b7f-4e9f-a27c-7a097aab50f2",
   "metadata": {},
   "outputs": [],
   "source": [
    "East_Africa=data[data['country'].isin(EA_countries)]"
   ]
  },
  {
   "cell_type": "code",
   "execution_count": 8,
   "id": "03ac0bb8-9f92-4ab6-8beb-43cb9a9c6067",
   "metadata": {},
   "outputs": [
    {
     "data": {
      "text/html": [
       "<div>\n",
       "<style scoped>\n",
       "    .dataframe tbody tr th:only-of-type {\n",
       "        vertical-align: middle;\n",
       "    }\n",
       "\n",
       "    .dataframe tbody tr th {\n",
       "        vertical-align: top;\n",
       "    }\n",
       "\n",
       "    .dataframe thead th {\n",
       "        text-align: right;\n",
       "    }\n",
       "</style>\n",
       "<table border=\"1\" class=\"dataframe\">\n",
       "  <thead>\n",
       "    <tr style=\"text-align: right;\">\n",
       "      <th></th>\n",
       "      <th>country</th>\n",
       "      <th>food_category</th>\n",
       "      <th>consumption</th>\n",
       "      <th>co2_emmission</th>\n",
       "    </tr>\n",
       "  </thead>\n",
       "  <tbody>\n",
       "    <tr>\n",
       "      <th>902</th>\n",
       "      <td>Kenya</td>\n",
       "      <td>Pork</td>\n",
       "      <td>0.29</td>\n",
       "      <td>1.03</td>\n",
       "    </tr>\n",
       "    <tr>\n",
       "      <th>903</th>\n",
       "      <td>Kenya</td>\n",
       "      <td>Poultry</td>\n",
       "      <td>0.47</td>\n",
       "      <td>0.50</td>\n",
       "    </tr>\n",
       "    <tr>\n",
       "      <th>904</th>\n",
       "      <td>Kenya</td>\n",
       "      <td>Beef</td>\n",
       "      <td>9.54</td>\n",
       "      <td>294.38</td>\n",
       "    </tr>\n",
       "    <tr>\n",
       "      <th>905</th>\n",
       "      <td>Kenya</td>\n",
       "      <td>Lamb &amp; Goat</td>\n",
       "      <td>1.86</td>\n",
       "      <td>65.14</td>\n",
       "    </tr>\n",
       "    <tr>\n",
       "      <th>906</th>\n",
       "      <td>Kenya</td>\n",
       "      <td>Fish</td>\n",
       "      <td>4.27</td>\n",
       "      <td>6.82</td>\n",
       "    </tr>\n",
       "    <tr>\n",
       "      <th>907</th>\n",
       "      <td>Kenya</td>\n",
       "      <td>Eggs</td>\n",
       "      <td>1.84</td>\n",
       "      <td>1.69</td>\n",
       "    </tr>\n",
       "    <tr>\n",
       "      <th>908</th>\n",
       "      <td>Kenya</td>\n",
       "      <td>Milk - inc. cheese</td>\n",
       "      <td>94.86</td>\n",
       "      <td>135.12</td>\n",
       "    </tr>\n",
       "    <tr>\n",
       "      <th>909</th>\n",
       "      <td>Kenya</td>\n",
       "      <td>Wheat and Wheat Products</td>\n",
       "      <td>34.65</td>\n",
       "      <td>6.61</td>\n",
       "    </tr>\n",
       "    <tr>\n",
       "      <th>910</th>\n",
       "      <td>Kenya</td>\n",
       "      <td>Rice</td>\n",
       "      <td>12.94</td>\n",
       "      <td>16.56</td>\n",
       "    </tr>\n",
       "    <tr>\n",
       "      <th>911</th>\n",
       "      <td>Kenya</td>\n",
       "      <td>Soybeans</td>\n",
       "      <td>0.20</td>\n",
       "      <td>0.09</td>\n",
       "    </tr>\n",
       "    <tr>\n",
       "      <th>912</th>\n",
       "      <td>Kenya</td>\n",
       "      <td>Nuts inc. Peanut Butter</td>\n",
       "      <td>1.64</td>\n",
       "      <td>2.90</td>\n",
       "    </tr>\n",
       "    <tr>\n",
       "      <th>1089</th>\n",
       "      <td>Uganda</td>\n",
       "      <td>Pork</td>\n",
       "      <td>3.37</td>\n",
       "      <td>11.93</td>\n",
       "    </tr>\n",
       "    <tr>\n",
       "      <th>1090</th>\n",
       "      <td>Uganda</td>\n",
       "      <td>Poultry</td>\n",
       "      <td>1.51</td>\n",
       "      <td>1.62</td>\n",
       "    </tr>\n",
       "    <tr>\n",
       "      <th>1091</th>\n",
       "      <td>Uganda</td>\n",
       "      <td>Beef</td>\n",
       "      <td>5.15</td>\n",
       "      <td>158.92</td>\n",
       "    </tr>\n",
       "    <tr>\n",
       "      <th>1092</th>\n",
       "      <td>Uganda</td>\n",
       "      <td>Lamb &amp; Goat</td>\n",
       "      <td>1.25</td>\n",
       "      <td>43.77</td>\n",
       "    </tr>\n",
       "    <tr>\n",
       "      <th>1093</th>\n",
       "      <td>Uganda</td>\n",
       "      <td>Fish</td>\n",
       "      <td>12.50</td>\n",
       "      <td>19.96</td>\n",
       "    </tr>\n",
       "    <tr>\n",
       "      <th>1094</th>\n",
       "      <td>Uganda</td>\n",
       "      <td>Eggs</td>\n",
       "      <td>0.97</td>\n",
       "      <td>0.89</td>\n",
       "    </tr>\n",
       "    <tr>\n",
       "      <th>1095</th>\n",
       "      <td>Uganda</td>\n",
       "      <td>Milk - inc. cheese</td>\n",
       "      <td>37.27</td>\n",
       "      <td>53.09</td>\n",
       "    </tr>\n",
       "    <tr>\n",
       "      <th>1096</th>\n",
       "      <td>Uganda</td>\n",
       "      <td>Wheat and Wheat Products</td>\n",
       "      <td>10.14</td>\n",
       "      <td>1.93</td>\n",
       "    </tr>\n",
       "    <tr>\n",
       "      <th>1097</th>\n",
       "      <td>Uganda</td>\n",
       "      <td>Rice</td>\n",
       "      <td>4.64</td>\n",
       "      <td>5.94</td>\n",
       "    </tr>\n",
       "  </tbody>\n",
       "</table>\n",
       "</div>"
      ],
      "text/plain": [
       "     country             food_category  consumption  co2_emmission\n",
       "902    Kenya                      Pork         0.29           1.03\n",
       "903    Kenya                   Poultry         0.47           0.50\n",
       "904    Kenya                      Beef         9.54         294.38\n",
       "905    Kenya               Lamb & Goat         1.86          65.14\n",
       "906    Kenya                      Fish         4.27           6.82\n",
       "907    Kenya                      Eggs         1.84           1.69\n",
       "908    Kenya        Milk - inc. cheese        94.86         135.12\n",
       "909    Kenya  Wheat and Wheat Products        34.65           6.61\n",
       "910    Kenya                      Rice        12.94          16.56\n",
       "911    Kenya                  Soybeans         0.20           0.09\n",
       "912    Kenya   Nuts inc. Peanut Butter         1.64           2.90\n",
       "1089  Uganda                      Pork         3.37          11.93\n",
       "1090  Uganda                   Poultry         1.51           1.62\n",
       "1091  Uganda                      Beef         5.15         158.92\n",
       "1092  Uganda               Lamb & Goat         1.25          43.77\n",
       "1093  Uganda                      Fish        12.50          19.96\n",
       "1094  Uganda                      Eggs         0.97           0.89\n",
       "1095  Uganda        Milk - inc. cheese        37.27          53.09\n",
       "1096  Uganda  Wheat and Wheat Products        10.14           1.93\n",
       "1097  Uganda                      Rice         4.64           5.94"
      ]
     },
     "execution_count": 8,
     "metadata": {},
     "output_type": "execute_result"
    }
   ],
   "source": [
    "East_Africa.head(20)"
   ]
  },
  {
   "cell_type": "code",
   "execution_count": 9,
   "id": "f7a5f93b-5100-4b29-8128-d57fb2c73c28",
   "metadata": {},
   "outputs": [
    {
     "data": {
      "text/plain": [
       "food_category\n",
       "Pork                        5\n",
       "Poultry                     5\n",
       "Beef                        5\n",
       "Lamb & Goat                 5\n",
       "Fish                        5\n",
       "Eggs                        5\n",
       "Milk - inc. cheese          5\n",
       "Wheat and Wheat Products    5\n",
       "Rice                        5\n",
       "Soybeans                    5\n",
       "Nuts inc. Peanut Butter     5\n",
       "Name: count, dtype: int64"
      ]
     },
     "execution_count": 9,
     "metadata": {},
     "output_type": "execute_result"
    }
   ],
   "source": [
    "#no of food categories\n",
    "East_Africa['food_category'].value_counts()"
   ]
  },
  {
   "cell_type": "code",
   "execution_count": 10,
   "id": "73cf6dcc-dd7c-4f2a-a3c2-d1f73ae689c3",
   "metadata": {},
   "outputs": [
    {
     "data": {
      "image/png": "[encoded data removed]",
      "text/plain": [
       "<Figure size 1000x1200 with 1 Axes>"
      ]
     },
     "metadata": {},
     "output_type": "display_data"
    }
   ],
   "source": [
    "plt.figure(figsize=(10,12))\n",
    "sns.barplot(data=East_Africa, y='food_category', x='co2_emmission',hue='country',palette='PRGn')\n",
    "plt.legend(loc='upper right', bbox_to_anchor=(1.16, 1.0)) \n",
    "plt.title(' The average C02 emission per person by food category in East Africa')\n",
    "plt.ylabel('')\n",
    "\n",
    "plt.show()"
   ]
  },
  {
   "cell_type": "markdown",
   "id": "4293f64f-d039-4c0f-80c3-6bcf697739c3",
   "metadata": {},
   "source": [
    "#### Q2: Highlight the marked difference between consumption and emissions in certain food product of your choice"
   ]
  },
  {
   "cell_type": "markdown",
   "id": "60c39da8-9a14-4596-a128-309d4f9b2328",
   "metadata": {},
   "source": [
    "#### I have chosen to highlight the marked difference between consumption and emissions of the top 3 consumed food prodcuts"
   ]
  },
  {
   "cell_type": "code",
   "execution_count": 11,
   "id": "55e8b1a2-6659-4e40-8ec8-851ecce05d70",
   "metadata": {},
   "outputs": [
    {
     "data": {
      "text/html": [
       "<div>\n",
       "<style scoped>\n",
       "    .dataframe tbody tr th:only-of-type {\n",
       "        vertical-align: middle;\n",
       "    }\n",
       "\n",
       "    .dataframe tbody tr th {\n",
       "        vertical-align: top;\n",
       "    }\n",
       "\n",
       "    .dataframe thead th {\n",
       "        text-align: right;\n",
       "    }\n",
       "</style>\n",
       "<table border=\"1\" class=\"dataframe\">\n",
       "  <thead>\n",
       "    <tr style=\"text-align: right;\">\n",
       "      <th></th>\n",
       "      <th>country</th>\n",
       "      <th>food_category</th>\n",
       "      <th>consumption</th>\n",
       "      <th>co2_emmission</th>\n",
       "    </tr>\n",
       "  </thead>\n",
       "  <tbody>\n",
       "    <tr>\n",
       "      <th>0</th>\n",
       "      <td>Argentina</td>\n",
       "      <td>Pork</td>\n",
       "      <td>10.51</td>\n",
       "      <td>37.20</td>\n",
       "    </tr>\n",
       "    <tr>\n",
       "      <th>1</th>\n",
       "      <td>Argentina</td>\n",
       "      <td>Poultry</td>\n",
       "      <td>38.66</td>\n",
       "      <td>41.53</td>\n",
       "    </tr>\n",
       "    <tr>\n",
       "      <th>2</th>\n",
       "      <td>Argentina</td>\n",
       "      <td>Beef</td>\n",
       "      <td>55.48</td>\n",
       "      <td>1712.00</td>\n",
       "    </tr>\n",
       "    <tr>\n",
       "      <th>3</th>\n",
       "      <td>Argentina</td>\n",
       "      <td>Lamb &amp; Goat</td>\n",
       "      <td>1.56</td>\n",
       "      <td>54.63</td>\n",
       "    </tr>\n",
       "    <tr>\n",
       "      <th>4</th>\n",
       "      <td>Argentina</td>\n",
       "      <td>Fish</td>\n",
       "      <td>4.36</td>\n",
       "      <td>6.96</td>\n",
       "    </tr>\n",
       "  </tbody>\n",
       "</table>\n",
       "</div>"
      ],
      "text/plain": [
       "     country food_category  consumption  co2_emmission\n",
       "0  Argentina          Pork        10.51          37.20\n",
       "1  Argentina       Poultry        38.66          41.53\n",
       "2  Argentina          Beef        55.48        1712.00\n",
       "3  Argentina   Lamb & Goat         1.56          54.63\n",
       "4  Argentina          Fish         4.36           6.96"
      ]
     },
     "execution_count": 11,
     "metadata": {},
     "output_type": "execute_result"
    }
   ],
   "source": [
    "#find the top 3 most consumed food category\n",
    "data.head()"
   ]
  },
  {
   "cell_type": "code",
   "execution_count": 12,
   "id": "b83225d2-c916-4e65-9775-e6321a8cffd9",
   "metadata": {},
   "outputs": [],
   "source": [
    "top5=data.groupby('food_category')['consumption'].sum().nlargest(5).index"
   ]
  },
  {
   "cell_type": "code",
   "execution_count": 13,
   "id": "4534327a-17e1-45e9-bba9-d60fdc5a347a",
   "metadata": {},
   "outputs": [
    {
     "data": {
      "text/plain": [
       "Index(['Milk - inc. cheese', 'Wheat and Wheat Products', 'Rice', 'Poultry',\n",
       "       'Fish'],\n",
       "      dtype='object', name='food_category')"
      ]
     },
     "execution_count": 13,
     "metadata": {},
     "output_type": "execute_result"
    }
   ],
   "source": [
    "top5"
   ]
  },
  {
   "cell_type": "code",
   "execution_count": 14,
   "id": "12203eef-9321-42bf-bb28-146d01453122",
   "metadata": {},
   "outputs": [],
   "source": [
    "#create a new dataframe with the top 5 most consumed food\n",
    "most_consumed=data[data['food_category'].isin(top5)]"
   ]
  },
  {
   "cell_type": "code",
   "execution_count": 15,
   "id": "83d3b317-238e-42b6-8870-67bce4071b9d",
   "metadata": {},
   "outputs": [
    {
     "data": {
      "text/html": [
       "<div>\n",
       "<style scoped>\n",
       "    .dataframe tbody tr th:only-of-type {\n",
       "        vertical-align: middle;\n",
       "    }\n",
       "\n",
       "    .dataframe tbody tr th {\n",
       "        vertical-align: top;\n",
       "    }\n",
       "\n",
       "    .dataframe thead th {\n",
       "        text-align: right;\n",
       "    }\n",
       "</style>\n",
       "<table border=\"1\" class=\"dataframe\">\n",
       "  <thead>\n",
       "    <tr style=\"text-align: right;\">\n",
       "      <th></th>\n",
       "      <th>country</th>\n",
       "      <th>food_category</th>\n",
       "      <th>consumption</th>\n",
       "      <th>co2_emmission</th>\n",
       "    </tr>\n",
       "  </thead>\n",
       "  <tbody>\n",
       "    <tr>\n",
       "      <th>1</th>\n",
       "      <td>Argentina</td>\n",
       "      <td>Poultry</td>\n",
       "      <td>38.66</td>\n",
       "      <td>41.53</td>\n",
       "    </tr>\n",
       "    <tr>\n",
       "      <th>4</th>\n",
       "      <td>Argentina</td>\n",
       "      <td>Fish</td>\n",
       "      <td>4.36</td>\n",
       "      <td>6.96</td>\n",
       "    </tr>\n",
       "    <tr>\n",
       "      <th>6</th>\n",
       "      <td>Argentina</td>\n",
       "      <td>Milk - inc. cheese</td>\n",
       "      <td>195.08</td>\n",
       "      <td>277.87</td>\n",
       "    </tr>\n",
       "    <tr>\n",
       "      <th>7</th>\n",
       "      <td>Argentina</td>\n",
       "      <td>Wheat and Wheat Products</td>\n",
       "      <td>103.11</td>\n",
       "      <td>19.66</td>\n",
       "    </tr>\n",
       "    <tr>\n",
       "      <th>8</th>\n",
       "      <td>Argentina</td>\n",
       "      <td>Rice</td>\n",
       "      <td>8.77</td>\n",
       "      <td>11.22</td>\n",
       "    </tr>\n",
       "  </tbody>\n",
       "</table>\n",
       "</div>"
      ],
      "text/plain": [
       "     country             food_category  consumption  co2_emmission\n",
       "1  Argentina                   Poultry        38.66          41.53\n",
       "4  Argentina                      Fish         4.36           6.96\n",
       "6  Argentina        Milk - inc. cheese       195.08         277.87\n",
       "7  Argentina  Wheat and Wheat Products       103.11          19.66\n",
       "8  Argentina                      Rice         8.77          11.22"
      ]
     },
     "execution_count": 15,
     "metadata": {},
     "output_type": "execute_result"
    }
   ],
   "source": [
    "most_consumed.head()"
   ]
  },
  {
   "cell_type": "code",
   "execution_count": 16,
   "id": "db0e8828-61b2-4285-b6fd-2e7c371048a1",
   "metadata": {},
   "outputs": [],
   "source": [
    "df=most_consumed.groupby('food_category')[['consumption','co2_emmission']].sum()"
   ]
  },
  {
   "cell_type": "code",
   "execution_count": 17,
   "id": "5297490e-2e74-44f4-a697-637fe521e007",
   "metadata": {},
   "outputs": [
    {
     "data": {
      "text/html": [
       "<div>\n",
       "<style scoped>\n",
       "    .dataframe tbody tr th:only-of-type {\n",
       "        vertical-align: middle;\n",
       "    }\n",
       "\n",
       "    .dataframe tbody tr th {\n",
       "        vertical-align: top;\n",
       "    }\n",
       "\n",
       "    .dataframe thead th {\n",
       "        text-align: right;\n",
       "    }\n",
       "</style>\n",
       "<table border=\"1\" class=\"dataframe\">\n",
       "  <thead>\n",
       "    <tr style=\"text-align: right;\">\n",
       "      <th></th>\n",
       "      <th>consumption</th>\n",
       "      <th>co2_emmission</th>\n",
       "    </tr>\n",
       "    <tr>\n",
       "      <th>food_category</th>\n",
       "      <th></th>\n",
       "      <th></th>\n",
       "    </tr>\n",
       "  </thead>\n",
       "  <tbody>\n",
       "    <tr>\n",
       "      <th>Fish</th>\n",
       "      <td>2247.32</td>\n",
       "      <td>3588.22</td>\n",
       "    </tr>\n",
       "    <tr>\n",
       "      <th>Milk - inc. cheese</th>\n",
       "      <td>16350.71</td>\n",
       "      <td>23290.00</td>\n",
       "    </tr>\n",
       "    <tr>\n",
       "      <th>Poultry</th>\n",
       "      <td>2758.50</td>\n",
       "      <td>2963.16</td>\n",
       "    </tr>\n",
       "    <tr>\n",
       "      <th>Rice</th>\n",
       "      <td>3818.77</td>\n",
       "      <td>4886.91</td>\n",
       "    </tr>\n",
       "    <tr>\n",
       "      <th>Wheat and Wheat Products</th>\n",
       "      <td>9301.44</td>\n",
       "      <td>1773.78</td>\n",
       "    </tr>\n",
       "  </tbody>\n",
       "</table>\n",
       "</div>"
      ],
      "text/plain": [
       "                          consumption  co2_emmission\n",
       "food_category                                       \n",
       "Fish                          2247.32        3588.22\n",
       "Milk - inc. cheese           16350.71       23290.00\n",
       "Poultry                       2758.50        2963.16\n",
       "Rice                          3818.77        4886.91\n",
       "Wheat and Wheat Products      9301.44        1773.78"
      ]
     },
     "execution_count": 17,
     "metadata": {},
     "output_type": "execute_result"
    }
   ],
   "source": [
    "df.head()"
   ]
  },
  {
   "cell_type": "code",
   "execution_count": 18,
   "id": "1e07143a-fc7b-4152-a3a4-c3b75ac30cc7",
   "metadata": {},
   "outputs": [],
   "source": [
    "import textwrap\n",
    "def wrap_labels(ax, width, break_long_words=False):\n",
    "    labels = []\n",
    "    for label in ax.get_xticklabels():\n",
    "        text = label.get_text()\n",
    "        labels.append(textwrap.fill(text, width=width,\n",
    "                      break_long_words=break_long_words))\n",
    "    ax.set_xticklabels(labels, rotation=0)"
   ]
  },
  {
   "cell_type": "code",
   "execution_count": 19,
   "id": "ddf93a18-3ba8-4a5f-9cab-02b818257e50",
   "metadata": {},
   "outputs": [
    {
     "data": {
      "image/png": "[encoded data removed]",
      "text/plain": [
       "<Figure size 640x480 with 1 Axes>"
      ]
     },
     "metadata": {},
     "output_type": "display_data"
    }
   ],
   "source": [
    "width=0.3\n",
    "x=np.arange(len(df.index))\n",
    "\n",
    "fig,ax=plt.subplots()\n",
    "ax.bar(x-width/2,df['consumption'],width,label='Consumption')\n",
    "ax.bar(x+width/2,df['co2_emmission'],width,label='Co2 Emission')\n",
    "\n",
    "plt.xlabel('Food Categories')\n",
    "plt.title('Comparison between Consumption & Co2 emissions of the most consumed foods',weight='bold')\n",
    "plt.xticks(x, df.index,rotation=5)\n",
    "wrap_labels(ax, 10)\n",
    "plt.legend()\n",
    "\n",
    "plt.show()"
   ]
  },
  {
   "cell_type": "code",
   "execution_count": null,
   "id": "cd8b252c-80cd-4ac3-8a8c-52bf0ddc7525",
   "metadata": {},
   "outputs": [],
   "source": []
  },
  {
   "cell_type": "markdown",
   "id": "4ea555bb-4c84-40e3-862d-1ce4f7689232",
   "metadata": {},
   "source": [
    "#### Q3: The food consumption of animal and non-animal products and the impact on carbon footprint."
   ]
  },
  {
   "cell_type": "code",
   "execution_count": 20,
   "id": "f83de887-238b-4d7b-982e-7d98dad11b31",
   "metadata": {},
   "outputs": [
    {
     "data": {
      "text/html": [
       "<div>\n",
       "<style scoped>\n",
       "    .dataframe tbody tr th:only-of-type {\n",
       "        vertical-align: middle;\n",
       "    }\n",
       "\n",
       "    .dataframe tbody tr th {\n",
       "        vertical-align: top;\n",
       "    }\n",
       "\n",
       "    .dataframe thead th {\n",
       "        text-align: right;\n",
       "    }\n",
       "</style>\n",
       "<table border=\"1\" class=\"dataframe\">\n",
       "  <thead>\n",
       "    <tr style=\"text-align: right;\">\n",
       "      <th></th>\n",
       "      <th>country</th>\n",
       "      <th>food_category</th>\n",
       "      <th>consumption</th>\n",
       "      <th>co2_emmission</th>\n",
       "    </tr>\n",
       "  </thead>\n",
       "  <tbody>\n",
       "    <tr>\n",
       "      <th>0</th>\n",
       "      <td>Argentina</td>\n",
       "      <td>Pork</td>\n",
       "      <td>10.51</td>\n",
       "      <td>37.20</td>\n",
       "    </tr>\n",
       "    <tr>\n",
       "      <th>1</th>\n",
       "      <td>Argentina</td>\n",
       "      <td>Poultry</td>\n",
       "      <td>38.66</td>\n",
       "      <td>41.53</td>\n",
       "    </tr>\n",
       "    <tr>\n",
       "      <th>2</th>\n",
       "      <td>Argentina</td>\n",
       "      <td>Beef</td>\n",
       "      <td>55.48</td>\n",
       "      <td>1712.00</td>\n",
       "    </tr>\n",
       "    <tr>\n",
       "      <th>3</th>\n",
       "      <td>Argentina</td>\n",
       "      <td>Lamb &amp; Goat</td>\n",
       "      <td>1.56</td>\n",
       "      <td>54.63</td>\n",
       "    </tr>\n",
       "    <tr>\n",
       "      <th>4</th>\n",
       "      <td>Argentina</td>\n",
       "      <td>Fish</td>\n",
       "      <td>4.36</td>\n",
       "      <td>6.96</td>\n",
       "    </tr>\n",
       "  </tbody>\n",
       "</table>\n",
       "</div>"
      ],
      "text/plain": [
       "     country food_category  consumption  co2_emmission\n",
       "0  Argentina          Pork        10.51          37.20\n",
       "1  Argentina       Poultry        38.66          41.53\n",
       "2  Argentina          Beef        55.48        1712.00\n",
       "3  Argentina   Lamb & Goat         1.56          54.63\n",
       "4  Argentina          Fish         4.36           6.96"
      ]
     },
     "execution_count": 20,
     "metadata": {},
     "output_type": "execute_result"
    }
   ],
   "source": [
    "data.head()"
   ]
  },
  {
   "cell_type": "code",
   "execution_count": 21,
   "id": "9df5f7ae-5741-4984-9494-47e07d72886b",
   "metadata": {},
   "outputs": [],
   "source": [
    "newdf=pd.DataFrame(data.groupby('food_category')[['consumption','co2_emmission']].sum())"
   ]
  },
  {
   "cell_type": "code",
   "execution_count": 22,
   "id": "ceeef9e6-9bc1-4509-b22b-e94a1817045c",
   "metadata": {},
   "outputs": [
    {
     "data": {
      "text/html": [
       "<div>\n",
       "<style scoped>\n",
       "    .dataframe tbody tr th:only-of-type {\n",
       "        vertical-align: middle;\n",
       "    }\n",
       "\n",
       "    .dataframe tbody tr th {\n",
       "        vertical-align: top;\n",
       "    }\n",
       "\n",
       "    .dataframe thead th {\n",
       "        text-align: right;\n",
       "    }\n",
       "</style>\n",
       "<table border=\"1\" class=\"dataframe\">\n",
       "  <thead>\n",
       "    <tr style=\"text-align: right;\">\n",
       "      <th></th>\n",
       "      <th>consumption</th>\n",
       "      <th>co2_emmission</th>\n",
       "    </tr>\n",
       "    <tr>\n",
       "      <th>food_category</th>\n",
       "      <th></th>\n",
       "      <th></th>\n",
       "    </tr>\n",
       "  </thead>\n",
       "  <tbody>\n",
       "    <tr>\n",
       "      <th>Beef</th>\n",
       "      <td>1576.04</td>\n",
       "      <td>48633.26</td>\n",
       "    </tr>\n",
       "    <tr>\n",
       "      <th>Eggs</th>\n",
       "      <td>1061.29</td>\n",
       "      <td>974.95</td>\n",
       "    </tr>\n",
       "    <tr>\n",
       "      <th>Fish</th>\n",
       "      <td>2247.32</td>\n",
       "      <td>3588.22</td>\n",
       "    </tr>\n",
       "    <tr>\n",
       "      <th>Lamb &amp; Goat</th>\n",
       "      <td>338.02</td>\n",
       "      <td>11837.38</td>\n",
       "    </tr>\n",
       "    <tr>\n",
       "      <th>Milk - inc. cheese</th>\n",
       "      <td>16350.71</td>\n",
       "      <td>23290.00</td>\n",
       "    </tr>\n",
       "    <tr>\n",
       "      <th>Nuts inc. Peanut Butter</th>\n",
       "      <td>537.84</td>\n",
       "      <td>951.99</td>\n",
       "    </tr>\n",
       "    <tr>\n",
       "      <th>Pork</th>\n",
       "      <td>2096.08</td>\n",
       "      <td>7419.11</td>\n",
       "    </tr>\n",
       "    <tr>\n",
       "      <th>Poultry</th>\n",
       "      <td>2758.50</td>\n",
       "      <td>2963.16</td>\n",
       "    </tr>\n",
       "    <tr>\n",
       "      <th>Rice</th>\n",
       "      <td>3818.77</td>\n",
       "      <td>4886.91</td>\n",
       "    </tr>\n",
       "    <tr>\n",
       "      <th>Soybeans</th>\n",
       "      <td>111.87</td>\n",
       "      <td>50.35</td>\n",
       "    </tr>\n",
       "    <tr>\n",
       "      <th>Wheat and Wheat Products</th>\n",
       "      <td>9301.44</td>\n",
       "      <td>1773.78</td>\n",
       "    </tr>\n",
       "  </tbody>\n",
       "</table>\n",
       "</div>"
      ],
      "text/plain": [
       "                          consumption  co2_emmission\n",
       "food_category                                       \n",
       "Beef                          1576.04       48633.26\n",
       "Eggs                          1061.29         974.95\n",
       "Fish                          2247.32        3588.22\n",
       "Lamb & Goat                    338.02       11837.38\n",
       "Milk - inc. cheese           16350.71       23290.00\n",
       "Nuts inc. Peanut Butter        537.84         951.99\n",
       "Pork                          2096.08        7419.11\n",
       "Poultry                       2758.50        2963.16\n",
       "Rice                          3818.77        4886.91\n",
       "Soybeans                       111.87          50.35\n",
       "Wheat and Wheat Products      9301.44        1773.78"
      ]
     },
     "execution_count": 22,
     "metadata": {},
     "output_type": "execute_result"
    }
   ],
   "source": [
    "newdf.head(15)"
   ]
  },
  {
   "cell_type": "code",
   "execution_count": 25,
   "id": "7ad955ca-e48e-4bee-803c-a0b7d659dae2",
   "metadata": {},
   "outputs": [
    {
     "data": {
      "text/plain": [
       "Index(['Beef', 'Eggs', 'Fish', 'Lamb & Goat', 'Milk - inc. cheese',\n",
       "       'Nuts inc. Peanut Butter', 'Pork', 'Poultry', 'Rice', 'Soybeans',\n",
       "       'Wheat and Wheat Products'],\n",
       "      dtype='object', name='food_category')"
      ]
     },
     "execution_count": 25,
     "metadata": {},
     "output_type": "execute_result"
    }
   ],
   "source": [
    "newdf.index"
   ]
  },
  {
   "cell_type": "code",
   "execution_count": 45,
   "id": "81b77257-026a-46ab-991b-294f22e4219f",
   "metadata": {},
   "outputs": [
    {
     "name": "stderr",
     "output_type": "stream",
     "text": [
      "C:\\Users\\User\\AppData\\Local\\Temp\\ipykernel_10192\\3349374728.py:4: FutureWarning: \n",
      "\n",
      "Passing `palette` without assigning `hue` is deprecated and will be removed in v0.14.0. Assign the `y` variable to `hue` and set `legend=False` for the same effect.\n",
      "\n",
      "  sns.barplot(data=newdf, x='consumption', y= newdf.index,palette=cols)\n"
     ]
    },
    {
     "data": {
      "image/png": "[encoded data removed]",
      "text/plain": [
       "<Figure size 1000x1000 with 1 Axes>"
      ]
     },
     "metadata": {},
     "output_type": "display_data"
    }
   ],
   "source": [
    "plt.figure(figsize=(10,10))\n",
    "animal=['Beef', 'Eggs', 'Fish', 'Lamb & Goat', 'Milk - inc. cheese','Nuts inc. Peanut Butter', 'Pork', 'Poultry']\n",
    "cols=['brown' if index in animal else 'lightsteelblue' for index in newdf.index]\n",
    "sns.barplot(data=newdf, x='consumption', y= newdf.index,palette=cols)\n",
    "\n",
    "\n",
    "\n",
    "\n",
    "\n",
    "plt.show()"
   ]
  },
  {
   "cell_type": "markdown",
   "id": "52223e7d-1680-467d-954c-1535dd1e095c",
   "metadata": {},
   "source": [
    "#### Q4: Beef's contribution to CO2 emissions (kg/person/year)"
   ]
  },
  {
   "cell_type": "markdown",
   "id": "c255f0dd-e03e-4100-a243-c9cad2a5d8ee",
   "metadata": {},
   "source": [
    "#### Q5: A box plot and interpretation of the CO2 contributions of food levels"
   ]
  },
  {
   "cell_type": "markdown",
   "id": "58fa6fe4-d4e6-4b4f-b803-c848864be418",
   "metadata": {},
   "source": [
    "#### Q6: Top 10 Countries with highest emissions. Choose the appropriate visual type."
   ]
  },
  {
   "cell_type": "code",
   "execution_count": null,
   "id": "74c51bb0-1f34-45a4-a79d-e7b1fa8cbe07",
   "metadata": {},
   "outputs": [],
   "source": []
  }
 ],
 "metadata": {
  "kernelspec": {
   "display_name": "Python 3 (ipykernel)",
   "language": "python",
   "name": "python3"
  },
  "language_info": {
   "codemirror_mode": {
    "name": "ipython",
    "version": 3
   },
   "file_extension": ".py",
   "mimetype": "text/x-python",
   "name": "python",
   "nbconvert_exporter": "python",
   "pygments_lexer": "ipython3",
   "version": "3.11.4"
  }
 },
 "nbformat": 4,
 "nbformat_minor": 5
}
