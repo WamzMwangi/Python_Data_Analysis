{
 "cells": [
  {
   "cell_type": "code",
   "execution_count": 12,
   "id": "8944b7f9-08ea-4ac6-a3c6-dc966f613023",
   "metadata": {},
   "outputs": [],
   "source": [
    "import pandas as pd\n",
    "import numpy as np"
   ]
  },
  {
   "cell_type": "code",
   "execution_count": 2,
   "id": "14bb997a-bce2-4f08-aeb7-c420208e2b74",
   "metadata": {},
   "outputs": [],
   "source": [
    "from datetime import datetime"
   ]
  },
  {
   "cell_type": "code",
   "execution_count": 4,
   "id": "643fe5cc-183d-4ee7-8d71-91ab63f99abe",
   "metadata": {},
   "outputs": [],
   "source": [
    "date=datetime(year=2015, month=7, day=4)"
   ]
  },
  {
   "cell_type": "code",
   "execution_count": 5,
   "id": "fd5903fb-977d-4e2a-b638-a33f5af4c381",
   "metadata": {},
   "outputs": [
    {
     "data": {
      "text/plain": [
       "datetime.datetime(2015, 7, 4, 0, 0)"
      ]
     },
     "execution_count": 5,
     "metadata": {},
     "output_type": "execute_result"
    }
   ],
   "source": [
    "date"
   ]
  },
  {
   "cell_type": "code",
   "execution_count": 6,
   "id": "66605df6-8eb6-43ab-b536-c50a7774ebf5",
   "metadata": {},
   "outputs": [
    {
     "data": {
      "text/plain": [
       "'Saturday'"
      ]
     },
     "execution_count": 6,
     "metadata": {},
     "output_type": "execute_result"
    }
   ],
   "source": [
    "date.strftime('%A')"
   ]
  },
  {
   "cell_type": "markdown",
   "id": "71b7b23e-abfb-4b1d-b31a-983ead3a8e17",
   "metadata": {},
   "source": [
    "#### strftime stands for string from time...%A is a format code that outputs the weekday in full, for example Saturday. %a, will output the weekday in shortfrom, Sat...%d-day of the week.and so on and so forth"
   ]
  },
  {
   "cell_type": "code",
   "execution_count": 7,
   "id": "d4ce0df7-3dcb-4c7c-be1a-3d3ed6855c96",
   "metadata": {},
   "outputs": [
    {
     "data": {
      "text/plain": [
       "'04'"
      ]
     },
     "execution_count": 7,
     "metadata": {},
     "output_type": "execute_result"
    }
   ],
   "source": [
    "date.strftime('%d')"
   ]
  },
  {
   "cell_type": "code",
   "execution_count": 8,
   "id": "2b120b71-8644-439a-8c71-ffe8211c072f",
   "metadata": {},
   "outputs": [
    {
     "data": {
      "text/plain": [
       "'2015'"
      ]
     },
     "execution_count": 8,
     "metadata": {},
     "output_type": "execute_result"
    }
   ],
   "source": [
    "date.strftime('%Y')"
   ]
  },
  {
   "cell_type": "code",
   "execution_count": 9,
   "id": "65a94673-89cd-4347-b0bc-0910b24461de",
   "metadata": {},
   "outputs": [
    {
     "data": {
      "text/plain": [
       "'6'"
      ]
     },
     "execution_count": 9,
     "metadata": {},
     "output_type": "execute_result"
    }
   ],
   "source": [
    "date.strftime('%w')\n",
    "#%w outputs the weekday as a number=Saturday is the 6th day of the week"
   ]
  },
  {
   "cell_type": "code",
   "execution_count": 10,
   "id": "07210ee8-e4ec-4192-83dd-29ca22a3b877",
   "metadata": {},
   "outputs": [
    {
     "data": {
      "text/plain": [
       "Timestamp('2015-07-04 00:00:00')"
      ]
     },
     "execution_count": 10,
     "metadata": {},
     "output_type": "execute_result"
    }
   ],
   "source": [
    "date = pd.to_datetime(\"4th of July, 2015\")\n",
    "date"
   ]
  },
  {
   "cell_type": "code",
   "execution_count": 19,
   "id": "b4bf1a59-7f14-4ce0-af9b-2565883acab6",
   "metadata": {},
   "outputs": [
    {
     "data": {
      "text/plain": [
       "DatetimeIndex(['2015-07-04', '2015-07-05', '2015-07-06', '2015-07-07',\n",
       "               '2015-07-08', '2015-07-09', '2015-07-10', '2015-07-11',\n",
       "               '2015-07-12', '2015-07-13', '2015-07-14', '2015-07-15'],\n",
       "              dtype='datetime64[ns]', freq=None)"
      ]
     },
     "execution_count": 19,
     "metadata": {},
     "output_type": "execute_result"
    }
   ],
   "source": [
    "date + pd.to_timedelta(np.arange(12), 'D')"
   ]
  },
  {
   "cell_type": "code",
   "execution_count": 20,
   "id": "6ad56b5a-a3db-452b-888f-cac7753aacbe",
   "metadata": {},
   "outputs": [],
   "source": [
    "#date + pd.to_timedelta(np.arange(12), 'M\n",
    "#Units 'M', 'Y', and 'y' are no longer supported, as they do not represent unambiguous timedelta values durations.\n",
    "#Is it because M could mean minutes or months? But how come Y is also not supported?"
   ]
  },
  {
   "cell_type": "markdown",
   "id": "b5819d2a-6932-4408-965c-ea8d7f1309b1",
   "metadata": {},
   "source": [
    "#### Indexing by Time"
   ]
  },
  {
   "cell_type": "code",
   "execution_count": 21,
   "id": "59ac911b-f3e4-42d7-91ba-9e75cb5a3c92",
   "metadata": {},
   "outputs": [
    {
     "data": {
      "text/plain": [
       "2014-07-04    0\n",
       "2014-08-04    1\n",
       "2015-07-04    2\n",
       "2015-08-04    3\n",
       "dtype: int64"
      ]
     },
     "execution_count": 21,
     "metadata": {},
     "output_type": "execute_result"
    }
   ],
   "source": [
    "index = pd.DatetimeIndex(['2014-07-04', '2014-08-04',\n",
    "                          '2015-07-04', '2015-08-04'])\n",
    "data = pd.Series([0, 1, 2, 3], index=index)\n",
    "data"
   ]
  },
  {
   "cell_type": "code",
   "execution_count": 22,
   "id": "c8b2824f-b431-4173-bd16-104c3ded091f",
   "metadata": {},
   "outputs": [
    {
     "data": {
      "text/plain": [
       "2015-07-04    2\n",
       "2015-08-04    3\n",
       "dtype: int64"
      ]
     },
     "execution_count": 22,
     "metadata": {},
     "output_type": "execute_result"
    }
   ],
   "source": [
    "data['2015']"
   ]
  },
  {
   "cell_type": "code",
   "execution_count": null,
   "id": "5f67618e-14db-4a57-8843-4dbb02bf6105",
   "metadata": {},
   "outputs": [],
   "source": []
  }
 ],
 "metadata": {
  "kernelspec": {
   "display_name": "Python 3 (ipykernel)",
   "language": "python",
   "name": "python3"
  },
  "language_info": {
   "codemirror_mode": {
    "name": "ipython",
    "version": 3
   },
   "file_extension": ".py",
   "mimetype": "text/x-python",
   "name": "python",
   "nbconvert_exporter": "python",
   "pygments_lexer": "ipython3",
   "version": "3.11.4"
  }
 },
 "nbformat": 4,
 "nbformat_minor": 5
}
